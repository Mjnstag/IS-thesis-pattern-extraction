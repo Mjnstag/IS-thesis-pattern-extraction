{
 "cells": [
  {
   "attachments": {},
   "cell_type": "markdown",
   "metadata": {},
   "source": [
    "# Imports"
   ]
  },
  {
   "cell_type": "code",
   "execution_count": 11,
   "metadata": {},
   "outputs": [],
   "source": [
    "import pandas as pd\n",
    "from pathlib import Path\n",
    "from sklearn.decomposition import PCA\n",
    "import seaborn as sns\n",
    "import numpy as np\n",
    "import matplotlib.pyplot as plt \n",
    "from sklearn.preprocessing import StandardScaler\n",
    "import datetime\n",
    "\n",
    "import os, math\n",
    "\n",
    "import pandas as pd\n",
    "import matplotlib.pyplot as plt\n",
    "import numpy as np\n",
    "# Preprocessing\n",
    "from sklearn.preprocessing import MinMaxScaler\n",
    "# Algorithms\n",
    "from minisom import MiniSom\n",
    "from tslearn.barycenters import dtw_barycenter_averaging\n",
    "from tslearn.clustering import TimeSeriesKMeans, KernelKMeans, silhouette_score\n",
    "from sklearn.cluster import KMeans, DBSCAN, SpectralClustering"
   ]
  },
  {
   "attachments": {},
   "cell_type": "markdown",
   "metadata": {},
   "source": [
    "# Loading Data"
   ]
  },
  {
   "cell_type": "code",
   "execution_count": 12,
   "metadata": {},
   "outputs": [
    {
     "name": "stdout",
     "output_type": "stream",
     "text": [
      "{'hanoi_scenario_dir': 'C:\\\\Users\\\\mjnst\\\\Desktop\\\\Thesis\\\\Hanoi_CMH\\\\Scenario-1', 'RUG_dir': 'C:\\\\Users\\\\mjnst\\\\Desktop\\\\Thesis\\\\RUG_data_5years', 'RUG_raw_csv': 'C:\\\\Users\\\\mjnst\\\\Desktop\\\\Thesis\\\\rug_csv.csv', 'RUG_timeseries': 'C:\\\\Users\\\\mjnst\\\\Desktop\\\\Thesis\\\\rug_timeseries.pkl', 'RUG_obfuscated': 'C:\\\\Users\\\\mjnst\\\\Desktop\\\\Thesis\\\\obfuscated_data.pkl'}\n"
     ]
    }
   ],
   "source": [
    "with open(\"IS-thesis-pattern-extraction/options.txt\", 'r') as f:\n",
    "    options = f.readlines()\n",
    "    options = {option.split(\"=\")[0]: option.split(\"=\")[1].strip() for option in options}\n",
    "print(options)"
   ]
  },
  {
   "cell_type": "code",
   "execution_count": 13,
   "metadata": {},
   "outputs": [],
   "source": [
    "RUG = pd.read_pickle(options['RUG_obfuscated'])"
   ]
  },
  {
   "attachments": {},
   "cell_type": "markdown",
   "metadata": {},
   "source": [
    "# Preparing and Transforming Data"
   ]
  },
  {
   "cell_type": "code",
   "execution_count": 14,
   "metadata": {},
   "outputs": [],
   "source": [
    "RUG.interpolate(method='linear', inplace=True, limit=20)"
   ]
  },
  {
   "cell_type": "code",
   "execution_count": 15,
   "metadata": {},
   "outputs": [],
   "source": [
    "groups = RUG['Location 2 - consumption'].groupby(pd.Grouper(freq='D'))\n",
    "\n",
    "# get the calender date of the groups\n",
    "days = list(groups.first().index.strftime('%Y:%m:%d'))\n",
    "\n",
    "gro = [groups.get_group(x).reset_index(drop=True) for x in groups.groups]\n",
    "\n",
    "temp = pd.concat(gro, axis=1, keys=days)\n",
    "\n",
    "temp.index = pd.date_range(\"00:00\", \"23:59\", freq=\"1min\").strftime('%H:%M')\n",
    "\n",
    "# drop all columns of temp dataframe which contain nan values\n",
    "temp.dropna(axis=1, how='any', inplace=True)"
   ]
  },
  {
   "cell_type": "code",
   "execution_count": 16,
   "metadata": {},
   "outputs": [],
   "source": [
    "temp = temp[::10]"
   ]
  },
  {
   "cell_type": "code",
   "execution_count": 17,
   "metadata": {},
   "outputs": [
    {
     "data": {
      "text/plain": [
       "1702"
      ]
     },
     "execution_count": 17,
     "metadata": {},
     "output_type": "execute_result"
    }
   ],
   "source": [
    "train_percentage = 0.8\n",
    "train_size = int(len(temp.columns) * train_percentage)\n",
    "train_size"
   ]
  },
  {
   "cell_type": "code",
   "execution_count": 18,
   "metadata": {},
   "outputs": [],
   "source": [
    "train = temp.iloc[:, :train_size]\n",
    "test = temp.iloc[:, train_size:]"
   ]
  },
  {
   "cell_type": "code",
   "execution_count": 19,
   "metadata": {},
   "outputs": [],
   "source": [
    "scaler = MinMaxScaler(feature_range=(0, 1))"
   ]
  },
  {
   "cell_type": "code",
   "execution_count": 20,
   "metadata": {},
   "outputs": [
    {
     "data": {
      "text/plain": [
       "array([[0.17881265, 0.17840637, 0.18230088, ..., 0.09634284, 0.09634284,\n",
       "        0.12386668],\n",
       "       [0.04017064, 0.03969576, 0.04424779, ..., 0.13174732, 0.13174732,\n",
       "        0.1581928 ],\n",
       "       [0.15926058, 0.22678519, 0.23379805, ..., 0.09465692, 0.09465692,\n",
       "        0.12223211],\n",
       "       ...,\n",
       "       [0.02986136, 0.02724738, 0.05734513, ..., 0.17659299, 0.16445432,\n",
       "        0.19578807],\n",
       "       [0.12584429, 0.13608185, 0.09132743, ..., 0.07341423, 0.069368  ,\n",
       "        0.16048121],\n",
       "       [0.07038748, 0.0784636 , 0.08495575, ..., 0.07341423, 0.05115998,\n",
       "        0.08790598]])"
      ]
     },
     "execution_count": 20,
     "metadata": {},
     "output_type": "execute_result"
    }
   ],
   "source": [
    "scaled_list_train = [train[col] for col in train]\n",
    "\n",
    "# for i in range(len(scaled_list_tain)):\n",
    "#     scaler = MinMaxScaler()\n",
    "#     scaled_list_tain[i] = MinMaxScaler().fit_transform(scaled_list_tain[i].to_numpy().reshape(-1, 1))\n",
    "#     scaled_list_tain[i]= scaled_list_tain[i].reshape(len(scaled_list_tain[i]))\n",
    "\n",
    "# scaled_list_train = np.nan_to_num(scaled_list_tain, copy=False, nan=0.0)\n",
    "scaled_list_train = scaler.fit_transform(scaled_list_train)\n",
    "scaled_list_train"
   ]
  },
  {
   "cell_type": "code",
   "execution_count": 21,
   "metadata": {},
   "outputs": [
    {
     "data": {
      "text/plain": [
       "array([[0.0234625 , 0.02084535, 0.0339823 , ..., 0.16850054, 0.24537884,\n",
       "        0.19382658],\n",
       "       [0.14077497, 0.11474176, 0.14654867, ..., 0.21300902, 0.20289347,\n",
       "        0.15851971],\n",
       "       [0.13224316, 0.04218544, 0.04035398, ..., 0.18670856, 0.17456989,\n",
       "        0.21148001],\n",
       "       ...,\n",
       "       [0.01919659, 0.00804129, 0.05309735, ..., 0.08959913, 0.13208451,\n",
       "        0.08790598],\n",
       "       [0.08745111, 0.0101753 , 0.01486726, ..., 0.1604081 , 0.08352979,\n",
       "        0.11928987],\n",
       "       [0.06612158, 0.11687577, 0.21663716, ..., 0.12399206, 0.04913687,\n",
       "        0.08594449]])"
      ]
     },
     "execution_count": 21,
     "metadata": {},
     "output_type": "execute_result"
    }
   ],
   "source": [
    "scaled_list_test = [test[col] for col in test]\n",
    "\n",
    "# for i in range(len(scaled_list_test)):\n",
    "#     scaler = MinMaxScaler()\n",
    "#     scaled_list_test[i] = MinMaxScaler().fit_transform(scaled_list_test[i].to_numpy().reshape(-1, 1))\n",
    "#     scaled_list_test[i]= scaled_list_test[i].reshape(len(scaled_list_test[i]))\n",
    "\n",
    "# scaled_list_test = np.nan_to_num(scaled_list_test, copy=False, nan=0.0)\n",
    "scaled_list_test = scaler.transform(scaled_list_test)\n",
    "\n",
    "scaled_list_test"
   ]
  },
  {
   "attachments": {},
   "cell_type": "markdown",
   "metadata": {},
   "source": [
    "# Principal Component Analysis"
   ]
  },
  {
   "cell_type": "code",
   "execution_count": 22,
   "metadata": {},
   "outputs": [
    {
     "name": "stdout",
     "output_type": "stream",
     "text": [
      "Shape before PCA:  (1702, 144)\n",
      "Shape after PCA:  (1702, 10)\n"
     ]
    },
    {
     "data": {
      "image/png": "[encoded data removed]",
      "text/plain": [
       "<Figure size 640x480 with 1 Axes>"
      ]
     },
     "metadata": {},
     "output_type": "display_data"
    }
   ],
   "source": [
    "sns.set()\n",
    " \n",
    "# Reduce from 4 to 3 features with PCA\n",
    "# pca = PCA(n_components=cluster_count)\n",
    "pca = PCA(n_components=0.85, svd_solver='full')\n",
    " \n",
    "# Fit and transform data\n",
    "pca_features = pca.fit_transform(scaled_list_train)\n",
    " \n",
    "\n",
    "print('Shape before PCA: ', scaled_list_train.shape)\n",
    "print('Shape after PCA: ', pca_features.shape)\n",
    "\n",
    "pca_df = pd.DataFrame(\n",
    "    data=pca_features)\n",
    "\n",
    "# Bar plot of explained_variance\n",
    "plt.bar(\n",
    "    range(1,len(pca.explained_variance_)+1),\n",
    "    pca.explained_variance_\n",
    "    )\n",
    " \n",
    " \n",
    "plt.xlabel('PCA Feature')\n",
    "plt.ylabel('Explained variance')\n",
    "plt.title('Feature Explained Variance')\n",
    "plt.show()"
   ]
  },
  {
   "attachments": {},
   "cell_type": "markdown",
   "metadata": {},
   "source": [
    "# Added K-means"
   ]
  },
  {
   "cell_type": "code",
   "execution_count": 23,
   "metadata": {},
   "outputs": [
    {
     "name": "stdout",
     "output_type": "stream",
     "text": [
      "1\n",
      "2\n"
     ]
    },
    {
     "ename": "KeyboardInterrupt",
     "evalue": "",
     "output_type": "error",
     "traceback": [
      "\u001b[1;31m---------------------------------------------------------------------------\u001b[0m",
      "\u001b[1;31mKeyboardInterrupt\u001b[0m                         Traceback (most recent call last)",
      "Cell \u001b[1;32mIn[23], line 5\u001b[0m\n\u001b[0;32m      3\u001b[0m \u001b[39mfor\u001b[39;00m i \u001b[39min\u001b[39;00m \u001b[39mrange\u001b[39m(\u001b[39m1\u001b[39m,\u001b[39m10\u001b[39m):\n\u001b[0;32m      4\u001b[0m     \u001b[39mprint\u001b[39m(i)\n\u001b[1;32m----> 5\u001b[0m     kmeans_pca \u001b[39m=\u001b[39m TimeSeriesKMeans(n_clusters\u001b[39m=\u001b[39;49mi, metric\u001b[39m=\u001b[39;49m\u001b[39m\"\u001b[39;49m\u001b[39mdtw\u001b[39;49m\u001b[39m\"\u001b[39;49m, n_jobs\u001b[39m=\u001b[39;49m\u001b[39m-\u001b[39;49m\u001b[39m1\u001b[39;49m)\u001b[39m.\u001b[39;49mfit(pca_features)\n\u001b[0;32m      6\u001b[0m     wcss\u001b[39m.\u001b[39mappend(kmeans_pca\u001b[39m.\u001b[39minertia_)\n\u001b[0;32m      7\u001b[0m     \u001b[39m# print(\"silhouette_score\")\u001b[39;00m\n\u001b[0;32m      8\u001b[0m     \u001b[39m# try:\u001b[39;00m\n\u001b[0;32m      9\u001b[0m     \u001b[39m#     silhouette_scores.append(silhouette_score(pca_features, kmeans_pca.labels_, n_jobs=-1))\u001b[39;00m\n\u001b[0;32m     10\u001b[0m     \u001b[39m# except:\u001b[39;00m\n\u001b[0;32m     11\u001b[0m     \u001b[39m#     silhouette_scores.append(0)\u001b[39;00m\n",
      "File \u001b[1;32mc:\\Users\\mjnst\\AppData\\Local\\Programs\\Python\\Python310\\lib\\site-packages\\tslearn\\clustering\\kmeans.py:780\u001b[0m, in \u001b[0;36mTimeSeriesKMeans.fit\u001b[1;34m(self, X, y)\u001b[0m\n\u001b[0;32m    778\u001b[0m     \u001b[39mprint\u001b[39m(\u001b[39m\"\u001b[39m\u001b[39mInit \u001b[39m\u001b[39m%d\u001b[39;00m\u001b[39m\"\u001b[39m \u001b[39m%\u001b[39m (n_successful \u001b[39m+\u001b[39m \u001b[39m1\u001b[39m))\n\u001b[0;32m    779\u001b[0m n_attempts \u001b[39m+\u001b[39m\u001b[39m=\u001b[39m \u001b[39m1\u001b[39m\n\u001b[1;32m--> 780\u001b[0m \u001b[39mself\u001b[39;49m\u001b[39m.\u001b[39;49m_fit_one_init(X_, x_squared_norms, rs)\n\u001b[0;32m    781\u001b[0m \u001b[39mif\u001b[39;00m \u001b[39mself\u001b[39m\u001b[39m.\u001b[39minertia_ \u001b[39m<\u001b[39m min_inertia:\n\u001b[0;32m    782\u001b[0m     best_correct_centroids \u001b[39m=\u001b[39m \u001b[39mself\u001b[39m\u001b[39m.\u001b[39mcluster_centers_\u001b[39m.\u001b[39mcopy()\n",
      "File \u001b[1;32mc:\\Users\\mjnst\\AppData\\Local\\Programs\\Python\\Python310\\lib\\site-packages\\tslearn\\clustering\\kmeans.py:649\u001b[0m, in \u001b[0;36mTimeSeriesKMeans._fit_one_init\u001b[1;34m(self, X, x_squared_norms, rs)\u001b[0m\n\u001b[0;32m    644\u001b[0m         \u001b[39melse\u001b[39;00m:\n\u001b[0;32m    645\u001b[0m             \u001b[39mraise\u001b[39;00m \u001b[39mValueError\u001b[39;00m(\n\u001b[0;32m    646\u001b[0m                 \u001b[39m\"\u001b[39m\u001b[39mIncorrect metric: \u001b[39m\u001b[39m%s\u001b[39;00m\u001b[39m (should be one of \u001b[39m\u001b[39m'\u001b[39m\u001b[39mdtw\u001b[39m\u001b[39m'\u001b[39m\u001b[39m, \u001b[39m\u001b[39m\"\u001b[39m\n\u001b[0;32m    647\u001b[0m                 \u001b[39m\"\u001b[39m\u001b[39m'\u001b[39m\u001b[39msoftdtw\u001b[39m\u001b[39m'\u001b[39m\u001b[39m, \u001b[39m\u001b[39m'\u001b[39m\u001b[39meuclidean\u001b[39m\u001b[39m'\u001b[39m\u001b[39m)\u001b[39m\u001b[39m\"\u001b[39m \u001b[39m%\u001b[39m \u001b[39mself\u001b[39m\u001b[39m.\u001b[39mmetric\n\u001b[0;32m    648\u001b[0m             )\n\u001b[1;32m--> 649\u001b[0m         \u001b[39mself\u001b[39m\u001b[39m.\u001b[39mcluster_centers_ \u001b[39m=\u001b[39m _k_init_metric(X, \u001b[39mself\u001b[39;49m\u001b[39m.\u001b[39;49mn_clusters,\n\u001b[0;32m    650\u001b[0m                                                cdist_metric\u001b[39m=\u001b[39;49mmetric_fun,\n\u001b[0;32m    651\u001b[0m                                                random_state\u001b[39m=\u001b[39;49mrs)\n\u001b[0;32m    652\u001b[0m \u001b[39melif\u001b[39;00m \u001b[39mself\u001b[39m\u001b[39m.\u001b[39minit \u001b[39m==\u001b[39m \u001b[39m\"\u001b[39m\u001b[39mrandom\u001b[39m\u001b[39m\"\u001b[39m:\n\u001b[0;32m    653\u001b[0m     indices \u001b[39m=\u001b[39m rs\u001b[39m.\u001b[39mchoice(X\u001b[39m.\u001b[39mshape[\u001b[39m0\u001b[39m], \u001b[39mself\u001b[39m\u001b[39m.\u001b[39mn_clusters)\n",
      "File \u001b[1;32mc:\\Users\\mjnst\\AppData\\Local\\Programs\\Python\\Python310\\lib\\site-packages\\tslearn\\clustering\\kmeans.py:117\u001b[0m, in \u001b[0;36m_k_init_metric\u001b[1;34m(X, n_clusters, cdist_metric, random_state, n_local_trials)\u001b[0m\n\u001b[0;32m    113\u001b[0m numpy\u001b[39m.\u001b[39mclip(candidate_ids, \u001b[39mNone\u001b[39;00m, closest_dist_sq\u001b[39m.\u001b[39msize \u001b[39m-\u001b[39m \u001b[39m1\u001b[39m,\n\u001b[0;32m    114\u001b[0m            out\u001b[39m=\u001b[39mcandidate_ids)\n\u001b[0;32m    116\u001b[0m \u001b[39m# Compute distances to center candidates\u001b[39;00m\n\u001b[1;32m--> 117\u001b[0m distance_to_candidates \u001b[39m=\u001b[39m cdist_metric(X[candidate_ids], X) \u001b[39m*\u001b[39m\u001b[39m*\u001b[39m \u001b[39m2\u001b[39m\n\u001b[0;32m    119\u001b[0m \u001b[39m# update closest distances squared and potential for each candidate\u001b[39;00m\n\u001b[0;32m    120\u001b[0m numpy\u001b[39m.\u001b[39mminimum(closest_dist_sq, distance_to_candidates,\n\u001b[0;32m    121\u001b[0m               out\u001b[39m=\u001b[39mdistance_to_candidates)\n",
      "File \u001b[1;32mc:\\Users\\mjnst\\AppData\\Local\\Programs\\Python\\Python310\\lib\\site-packages\\tslearn\\clustering\\kmeans.py:638\u001b[0m, in \u001b[0;36mTimeSeriesKMeans._fit_one_init.<locals>.metric_fun\u001b[1;34m(x, y)\u001b[0m\n\u001b[0;32m    637\u001b[0m \u001b[39mdef\u001b[39;00m \u001b[39mmetric_fun\u001b[39m(x, y):\n\u001b[1;32m--> 638\u001b[0m     \u001b[39mreturn\u001b[39;00m cdist_dtw(x, y, n_jobs\u001b[39m=\u001b[39m\u001b[39mself\u001b[39m\u001b[39m.\u001b[39mn_jobs,\n\u001b[0;32m    639\u001b[0m                      verbose\u001b[39m=\u001b[39m\u001b[39mself\u001b[39m\u001b[39m.\u001b[39mverbose, \u001b[39m*\u001b[39m\u001b[39m*\u001b[39mmetric_params)\n",
      "File \u001b[1;32mc:\\Users\\mjnst\\AppData\\Local\\Programs\\Python\\Python310\\lib\\site-packages\\tslearn\\metrics\\dtw_variants.py:1235\u001b[0m, in \u001b[0;36mcdist_dtw\u001b[1;34m(dataset1, dataset2, global_constraint, sakoe_chiba_radius, itakura_max_slope, n_jobs, verbose)\u001b[0m\n\u001b[0;32m   1144\u001b[0m \u001b[39mdef\u001b[39;00m \u001b[39mcdist_dtw\u001b[39m(dataset1, dataset2\u001b[39m=\u001b[39m\u001b[39mNone\u001b[39;00m, global_constraint\u001b[39m=\u001b[39m\u001b[39mNone\u001b[39;00m,\n\u001b[0;32m   1145\u001b[0m               sakoe_chiba_radius\u001b[39m=\u001b[39m\u001b[39mNone\u001b[39;00m, itakura_max_slope\u001b[39m=\u001b[39m\u001b[39mNone\u001b[39;00m, n_jobs\u001b[39m=\u001b[39m\u001b[39mNone\u001b[39;00m,\n\u001b[0;32m   1146\u001b[0m               verbose\u001b[39m=\u001b[39m\u001b[39m0\u001b[39m):\n\u001b[0;32m   1147\u001b[0m     \u001b[39mr\u001b[39m\u001b[39m\"\"\"Compute cross-similarity matrix using Dynamic Time Warping (DTW)\u001b[39;00m\n\u001b[0;32m   1148\u001b[0m \u001b[39m    similarity measure.\u001b[39;00m\n\u001b[0;32m   1149\u001b[0m \n\u001b[1;32m   (...)\u001b[0m\n\u001b[0;32m   1233\u001b[0m \u001b[39m           Signal Processing, vol. 26(1), pp. 43--49, 1978.\u001b[39;00m\n\u001b[0;32m   1234\u001b[0m \u001b[39m    \"\"\"\u001b[39;00m  \u001b[39m# noqa: E501\u001b[39;00m\n\u001b[1;32m-> 1235\u001b[0m     \u001b[39mreturn\u001b[39;00m _cdist_generic(dist_fun\u001b[39m=\u001b[39;49mdtw, dataset1\u001b[39m=\u001b[39;49mdataset1, dataset2\u001b[39m=\u001b[39;49mdataset2,\n\u001b[0;32m   1236\u001b[0m                           n_jobs\u001b[39m=\u001b[39;49mn_jobs, verbose\u001b[39m=\u001b[39;49mverbose,\n\u001b[0;32m   1237\u001b[0m                           compute_diagonal\u001b[39m=\u001b[39;49m\u001b[39mFalse\u001b[39;49;00m,\n\u001b[0;32m   1238\u001b[0m                           global_constraint\u001b[39m=\u001b[39;49mglobal_constraint,\n\u001b[0;32m   1239\u001b[0m                           sakoe_chiba_radius\u001b[39m=\u001b[39;49msakoe_chiba_radius,\n\u001b[0;32m   1240\u001b[0m                           itakura_max_slope\u001b[39m=\u001b[39;49mitakura_max_slope)\n",
      "File \u001b[1;32mc:\\Users\\mjnst\\AppData\\Local\\Programs\\Python\\Python310\\lib\\site-packages\\tslearn\\metrics\\utils.py:78\u001b[0m, in \u001b[0;36m_cdist_generic\u001b[1;34m(dist_fun, dataset1, dataset2, n_jobs, verbose, compute_diagonal, dtype, *args, **kwargs)\u001b[0m\n\u001b[0;32m     76\u001b[0m \u001b[39melse\u001b[39;00m:\n\u001b[0;32m     77\u001b[0m     dataset2 \u001b[39m=\u001b[39m to_time_series_dataset(dataset2, dtype\u001b[39m=\u001b[39mdtype)\n\u001b[1;32m---> 78\u001b[0m     matrix \u001b[39m=\u001b[39m Parallel(n_jobs\u001b[39m=\u001b[39;49mn_jobs, prefer\u001b[39m=\u001b[39;49m\u001b[39m\"\u001b[39;49m\u001b[39mthreads\u001b[39;49m\u001b[39m\"\u001b[39;49m, verbose\u001b[39m=\u001b[39;49mverbose)(\n\u001b[0;32m     79\u001b[0m         delayed(dist_fun)(\n\u001b[0;32m     80\u001b[0m             dataset1[i], dataset2[j],\n\u001b[0;32m     81\u001b[0m             \u001b[39m*\u001b[39;49margs, \u001b[39m*\u001b[39;49m\u001b[39m*\u001b[39;49mkwargs\n\u001b[0;32m     82\u001b[0m         )\n\u001b[0;32m     83\u001b[0m         \u001b[39mfor\u001b[39;49;00m i \u001b[39min\u001b[39;49;00m \u001b[39mrange\u001b[39;49m(\u001b[39mlen\u001b[39;49m(dataset1)) \u001b[39mfor\u001b[39;49;00m j \u001b[39min\u001b[39;49;00m \u001b[39mrange\u001b[39;49m(\u001b[39mlen\u001b[39;49m(dataset2))\n\u001b[0;32m     84\u001b[0m     )\n\u001b[0;32m     85\u001b[0m     \u001b[39mreturn\u001b[39;00m numpy\u001b[39m.\u001b[39marray(matrix)\u001b[39m.\u001b[39mreshape((\u001b[39mlen\u001b[39m(dataset1), \u001b[39m-\u001b[39m\u001b[39m1\u001b[39m))\n",
      "File \u001b[1;32mc:\\Users\\mjnst\\AppData\\Local\\Programs\\Python\\Python310\\lib\\site-packages\\joblib\\parallel.py:1098\u001b[0m, in \u001b[0;36mParallel.__call__\u001b[1;34m(self, iterable)\u001b[0m\n\u001b[0;32m   1095\u001b[0m     \u001b[39mself\u001b[39m\u001b[39m.\u001b[39m_iterating \u001b[39m=\u001b[39m \u001b[39mFalse\u001b[39;00m\n\u001b[0;32m   1097\u001b[0m \u001b[39mwith\u001b[39;00m \u001b[39mself\u001b[39m\u001b[39m.\u001b[39m_backend\u001b[39m.\u001b[39mretrieval_context():\n\u001b[1;32m-> 1098\u001b[0m     \u001b[39mself\u001b[39;49m\u001b[39m.\u001b[39;49mretrieve()\n\u001b[0;32m   1099\u001b[0m \u001b[39m# Make sure that we get a last message telling us we are done\u001b[39;00m\n\u001b[0;32m   1100\u001b[0m elapsed_time \u001b[39m=\u001b[39m time\u001b[39m.\u001b[39mtime() \u001b[39m-\u001b[39m \u001b[39mself\u001b[39m\u001b[39m.\u001b[39m_start_time\n",
      "File \u001b[1;32mc:\\Users\\mjnst\\AppData\\Local\\Programs\\Python\\Python310\\lib\\site-packages\\joblib\\parallel.py:975\u001b[0m, in \u001b[0;36mParallel.retrieve\u001b[1;34m(self)\u001b[0m\n\u001b[0;32m    973\u001b[0m \u001b[39mtry\u001b[39;00m:\n\u001b[0;32m    974\u001b[0m     \u001b[39mif\u001b[39;00m \u001b[39mgetattr\u001b[39m(\u001b[39mself\u001b[39m\u001b[39m.\u001b[39m_backend, \u001b[39m'\u001b[39m\u001b[39msupports_timeout\u001b[39m\u001b[39m'\u001b[39m, \u001b[39mFalse\u001b[39;00m):\n\u001b[1;32m--> 975\u001b[0m         \u001b[39mself\u001b[39m\u001b[39m.\u001b[39m_output\u001b[39m.\u001b[39mextend(job\u001b[39m.\u001b[39;49mget(timeout\u001b[39m=\u001b[39;49m\u001b[39mself\u001b[39;49m\u001b[39m.\u001b[39;49mtimeout))\n\u001b[0;32m    976\u001b[0m     \u001b[39melse\u001b[39;00m:\n\u001b[0;32m    977\u001b[0m         \u001b[39mself\u001b[39m\u001b[39m.\u001b[39m_output\u001b[39m.\u001b[39mextend(job\u001b[39m.\u001b[39mget())\n",
      "File \u001b[1;32mc:\\Users\\mjnst\\AppData\\Local\\Programs\\Python\\Python310\\lib\\multiprocessing\\pool.py:768\u001b[0m, in \u001b[0;36mApplyResult.get\u001b[1;34m(self, timeout)\u001b[0m\n\u001b[0;32m    767\u001b[0m \u001b[39mdef\u001b[39;00m \u001b[39mget\u001b[39m(\u001b[39mself\u001b[39m, timeout\u001b[39m=\u001b[39m\u001b[39mNone\u001b[39;00m):\n\u001b[1;32m--> 768\u001b[0m     \u001b[39mself\u001b[39;49m\u001b[39m.\u001b[39;49mwait(timeout)\n\u001b[0;32m    769\u001b[0m     \u001b[39mif\u001b[39;00m \u001b[39mnot\u001b[39;00m \u001b[39mself\u001b[39m\u001b[39m.\u001b[39mready():\n\u001b[0;32m    770\u001b[0m         \u001b[39mraise\u001b[39;00m \u001b[39mTimeoutError\u001b[39;00m\n",
      "File \u001b[1;32mc:\\Users\\mjnst\\AppData\\Local\\Programs\\Python\\Python310\\lib\\multiprocessing\\pool.py:765\u001b[0m, in \u001b[0;36mApplyResult.wait\u001b[1;34m(self, timeout)\u001b[0m\n\u001b[0;32m    764\u001b[0m \u001b[39mdef\u001b[39;00m \u001b[39mwait\u001b[39m(\u001b[39mself\u001b[39m, timeout\u001b[39m=\u001b[39m\u001b[39mNone\u001b[39;00m):\n\u001b[1;32m--> 765\u001b[0m     \u001b[39mself\u001b[39;49m\u001b[39m.\u001b[39;49m_event\u001b[39m.\u001b[39;49mwait(timeout)\n",
      "File \u001b[1;32mc:\\Users\\mjnst\\AppData\\Local\\Programs\\Python\\Python310\\lib\\threading.py:607\u001b[0m, in \u001b[0;36mEvent.wait\u001b[1;34m(self, timeout)\u001b[0m\n\u001b[0;32m    605\u001b[0m signaled \u001b[39m=\u001b[39m \u001b[39mself\u001b[39m\u001b[39m.\u001b[39m_flag\n\u001b[0;32m    606\u001b[0m \u001b[39mif\u001b[39;00m \u001b[39mnot\u001b[39;00m signaled:\n\u001b[1;32m--> 607\u001b[0m     signaled \u001b[39m=\u001b[39m \u001b[39mself\u001b[39;49m\u001b[39m.\u001b[39;49m_cond\u001b[39m.\u001b[39;49mwait(timeout)\n\u001b[0;32m    608\u001b[0m \u001b[39mreturn\u001b[39;00m signaled\n",
      "File \u001b[1;32mc:\\Users\\mjnst\\AppData\\Local\\Programs\\Python\\Python310\\lib\\threading.py:320\u001b[0m, in \u001b[0;36mCondition.wait\u001b[1;34m(self, timeout)\u001b[0m\n\u001b[0;32m    318\u001b[0m \u001b[39mtry\u001b[39;00m:    \u001b[39m# restore state no matter what (e.g., KeyboardInterrupt)\u001b[39;00m\n\u001b[0;32m    319\u001b[0m     \u001b[39mif\u001b[39;00m timeout \u001b[39mis\u001b[39;00m \u001b[39mNone\u001b[39;00m:\n\u001b[1;32m--> 320\u001b[0m         waiter\u001b[39m.\u001b[39;49macquire()\n\u001b[0;32m    321\u001b[0m         gotit \u001b[39m=\u001b[39m \u001b[39mTrue\u001b[39;00m\n\u001b[0;32m    322\u001b[0m     \u001b[39melse\u001b[39;00m:\n",
      "\u001b[1;31mKeyboardInterrupt\u001b[0m: "
     ]
    }
   ],
   "source": [
    "wcss = []\n",
    "silhouette_scores = []\n",
    "for i in range(1,10):\n",
    "    print(i)\n",
    "    kmeans_pca = TimeSeriesKMeans(n_clusters=i, metric=\"dtw\", n_jobs=-1).fit(pca_features)\n",
    "    wcss.append(kmeans_pca.inertia_)\n",
    "    # print(\"silhouette_score\")\n",
    "    # try:\n",
    "    #     silhouette_scores.append(silhouette_score(pca_features, kmeans_pca.labels_, n_jobs=-1))\n",
    "    # except:\n",
    "    #     silhouette_scores.append(0)"
   ]
  },
  {
   "cell_type": "code",
   "execution_count": null,
   "metadata": {},
   "outputs": [],
   "source": [
    "plt.figure(figsize=(10,5))\n",
    "plt.plot(range(1,10), wcss, marker='o', linestyle='--')\n",
    "plt.title('K-means with PCA')\n",
    "plt.ylabel('WCSS')\n",
    "plt.xlabel('Number of clusters')"
   ]
  },
  {
   "cell_type": "code",
   "execution_count": null,
   "metadata": {},
   "outputs": [],
   "source": [
    "plt.figure(figsize=(10,5))\n",
    "plt.plot(range(1,10), silhouette_scores, marker='o', linestyle='--')\n",
    "plt.title('K-means with PCA')\n",
    "plt.ylabel('Silhouette score')\n",
    "plt.xlabel('Number of clusters')"
   ]
  },
  {
   "attachments": {},
   "cell_type": "markdown",
   "metadata": {},
   "source": [
    "from these graphs, we see that the elbow is at around 3, so we will use 3 clusters for the k-means algorithm."
   ]
  },
  {
   "cell_type": "code",
   "execution_count": 34,
   "metadata": {},
   "outputs": [
    {
     "name": "stderr",
     "output_type": "stream",
     "text": [
      "c:\\Users\\mjnst\\AppData\\Local\\Programs\\Python\\Python310\\lib\\site-packages\\tslearn\\utils\\utils.py:88: UserWarning: 2-Dimensional data passed. Assuming these are 1702 1-dimensional timeseries\n",
      "  warnings.warn('2-Dimensional data passed. Assuming these are '\n"
     ]
    }
   ],
   "source": [
    "from collections import Counter\n",
    "kmeans_pca = TimeSeriesKMeans(n_clusters=4, metric=\"dtw\", n_jobs=-1).fit(pca_features)\n",
    "train_pca_features = kmeans_pca.predict(pca_features)\n",
    "counts = dict(Counter(train_pca_features))"
   ]
  },
  {
   "cell_type": "code",
   "execution_count": 35,
   "metadata": {},
   "outputs": [
    {
     "data": {
      "image/png": "[encoded data removed]",
      "text/plain": [
       "<Figure size 640x480 with 1 Axes>"
      ]
     },
     "metadata": {},
     "output_type": "display_data"
    }
   ],
   "source": [
    "plt.bar(counts.keys(), counts.values())\n",
    "\n",
    "def addlabels(x,y):\n",
    "    for i in range(len(x)):\n",
    "        plt.text(i,y[i],y[i])\n",
    "\n",
    "addlabels(counts.keys(), list(counts.values()))\n",
    "\n",
    "plt.show()\n"
   ]
  },
  {
   "attachments": {},
   "cell_type": "markdown",
   "metadata": {},
   "source": [
    "# Train different lstm models"
   ]
  },
  {
   "cell_type": "code",
   "execution_count": 42,
   "metadata": {},
   "outputs": [
    {
     "name": "stdout",
     "output_type": "stream",
     "text": [
      "[0 0 0 ... 1 0 1]\n"
     ]
    }
   ],
   "source": [
    "print(train_pca_features)"
   ]
  },
  {
   "attachments": {},
   "cell_type": "markdown",
   "metadata": {},
   "source": [
    "# Predict test data clusters"
   ]
  },
  {
   "cell_type": "code",
   "execution_count": 26,
   "metadata": {},
   "outputs": [
    {
     "name": "stderr",
     "output_type": "stream",
     "text": [
      "c:\\Users\\mjnst\\AppData\\Local\\Programs\\Python\\Python310\\lib\\site-packages\\tslearn\\utils\\utils.py:88: UserWarning: 2-Dimensional data passed. Assuming these are 426 1-dimensional timeseries\n",
      "  warnings.warn('2-Dimensional data passed. Assuming these are '\n"
     ]
    }
   ],
   "source": [
    "test_pca_features = kmeans_pca.predict(scaled_list_test)"
   ]
  },
  {
   "cell_type": "code",
   "execution_count": 27,
   "metadata": {},
   "outputs": [
    {
     "data": {
      "text/plain": [
       "<BarContainer object of 2 artists>"
      ]
     },
     "execution_count": 27,
     "metadata": {},
     "output_type": "execute_result"
    },
    {
     "data": {
      "image/png": "[encoded data removed]",
      "text/plain": [
       "<Figure size 640x480 with 1 Axes>"
      ]
     },
     "metadata": {},
     "output_type": "display_data"
    }
   ],
   "source": [
    "plt.bar(dict(Counter(test_pca_features)).keys(), dict(Counter(test_pca_features)).values())"
   ]
  },
  {
   "cell_type": "code",
   "execution_count": null,
   "metadata": {},
   "outputs": [],
   "source": []
  }
 ],
 "metadata": {
  "kernelspec": {
   "display_name": "thesis",
   "language": "python",
   "name": "python3"
  },
  "language_info": {
   "codemirror_mode": {
    "name": "ipython",
    "version": 3
   },
   "file_extension": ".py",
   "mimetype": "text/x-python",
   "name": "python",
   "nbconvert_exporter": "python",
   "pygments_lexer": "ipython3",
   "version": "3.10.7"
  },
  "orig_nbformat": 4
 },
 "nbformat": 4,
 "nbformat_minor": 2
}
