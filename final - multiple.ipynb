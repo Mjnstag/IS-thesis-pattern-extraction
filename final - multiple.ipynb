{
 "cells": [
  {
   "attachments": {},
   "cell_type": "markdown",
   "metadata": {},
   "source": [
    "# Imports"
   ]
  },
  {
   "cell_type": "code",
   "execution_count": 2,
   "metadata": {},
   "outputs": [],
   "source": [
    "import pandas as pd\n",
    "from pathlib import Path\n",
    "from sklearn.decomposition import PCA\n",
    "import seaborn as sns\n",
    "import numpy as np\n",
    "import matplotlib.pyplot as plt \n",
    "from sklearn.preprocessing import StandardScaler\n",
    "import datetime\n",
    "\n",
    "import tensorflow as tf\n",
    "from tensorflow.keras.models import Sequential\n",
    "from tensorflow.keras.layers import Dense\n",
    "from tensorflow.keras.layers import LSTM\n",
    "\n",
    "import os, math\n",
    "\n",
    "import pandas as pd\n",
    "import matplotlib.pyplot as plt\n",
    "import numpy as np\n",
    "# Preprocessing\n",
    "from sklearn.preprocessing import MinMaxScaler\n",
    "# Algorithms\n",
    "from tslearn.barycenters import dtw_barycenter_averaging\n",
    "from tslearn.clustering import TimeSeriesKMeans, KernelKMeans, silhouette_score\n",
    "from sklearn.cluster import KMeans\n",
    "from sklearn.metrics import mean_squared_error\n",
    "\n",
    "from collections import Counter\n",
    "from tqdm import tqdm"
   ]
  },
  {
   "attachments": {},
   "cell_type": "markdown",
   "metadata": {},
   "source": [
    "# Set Tensorflow "
   ]
  },
  {
   "cell_type": "code",
   "execution_count": 3,
   "metadata": {},
   "outputs": [],
   "source": [
    "gpus = tf.config.experimental.list_physical_devices('GPU')\n",
    "for gpu in gpus:\n",
    "    tf.config.experimental.set_memory_growth(gpu, True)"
   ]
  },
  {
   "attachments": {},
   "cell_type": "markdown",
   "metadata": {},
   "source": [
    "# Set random seed for reproducibility"
   ]
  },
  {
   "cell_type": "code",
   "execution_count": 4,
   "metadata": {},
   "outputs": [],
   "source": [
    "# np.random.seed(1234)\n",
    "# tf.random.set_seed(1234)"
   ]
  },
  {
   "attachments": {},
   "cell_type": "markdown",
   "metadata": {},
   "source": [
    "# Loading Data"
   ]
  },
  {
   "cell_type": "code",
   "execution_count": 15,
   "metadata": {},
   "outputs": [
    {
     "name": "stdout",
     "output_type": "stream",
     "text": [
      "{'hanoi_scenario_dir': 'C:\\\\Users\\\\mjnst\\\\Desktop\\\\Thesis\\\\Hanoi_CMH\\\\Scenario-1', 'RUG_dir': 'C:\\\\Users\\\\mjnst\\\\Desktop\\\\Thesis\\\\RUG_data_5years', 'RUG_raw_csv': 'C:\\\\Users\\\\mjnst\\\\Desktop\\\\Thesis\\\\rug_csv.csv', 'RUG_timeseries': 'C:\\\\Users\\\\mjnst\\\\Desktop\\\\Thesis\\\\rug_timeseries.pkl', 'RUG_obfuscated': 'C:\\\\Users\\\\mjnst\\\\Desktop\\\\Thesis\\\\obfuscated_data.pkl'}\n"
     ]
    }
   ],
   "source": [
    "with open(\"options.txt\", 'r') as f:\n",
    "    options = f.readlines()\n",
    "    options = {option.split(\"=\")[0]: option.split(\"=\")[1].strip() for option in options}\n",
    "print(options)"
   ]
  },
  {
   "cell_type": "code",
   "execution_count": 26,
   "metadata": {},
   "outputs": [],
   "source": [
    "RUG = pd.read_pickle(options['RUG_obfuscated'])"
   ]
  },
  {
   "attachments": {},
   "cell_type": "markdown",
   "metadata": {},
   "source": [
    "# Preparing and Transforming Data"
   ]
  },
  {
   "cell_type": "code",
   "execution_count": 28,
   "metadata": {},
   "outputs": [],
   "source": [
    "RUG.interpolate(method='linear', inplace=True, limit=20)"
   ]
  },
  {
   "cell_type": "code",
   "execution_count": 9,
   "metadata": {},
   "outputs": [],
   "source": [
    "def get_data(col_name):\n",
    "    groups = RUG['Location 2 - consumption'].groupby(pd.Grouper(freq='D'))\n",
    "\n",
    "    # get the calender date of the groups\n",
    "    days = list(groups.first().index.strftime('%Y:%m:%d'))\n",
    "\n",
    "    gro = [groups.get_group(x).reset_index(drop=True) for x in groups.groups]\n",
    "\n",
    "    temp = pd.concat(gro, axis=1, keys=days)\n",
    "\n",
    "    temp.index = pd.date_range(\"00:00\", \"23:59\", freq=\"1min\").strftime('%H:%M')\n",
    "\n",
    "    # drop all columns of temp dataframe which contain nan values\n",
    "    temp.dropna(axis=1, how='any', inplace=True)\n",
    "\n",
    "    return temp[::10]"
   ]
  },
  {
   "cell_type": "code",
   "execution_count": 9,
   "metadata": {},
   "outputs": [],
   "source": [
    "def scale_data(data):\n",
    "\n",
    "    temp = data.copy()\n",
    "\n",
    "    train_percentage = 0.8\n",
    "    train_size = int(len(temp.columns) * train_percentage)\n",
    "    \n",
    "    train = temp.iloc[:, :train_size]\n",
    "    test = temp.iloc[:, train_size:]\n",
    "\n",
    "    scaler = MinMaxScaler(feature_range=(0, 1))\n",
    "\n",
    "    scaled_list_train = [train[col] for col in train]\n",
    "    scaled_list_train = scaler.fit_transform(scaled_list_train)\n",
    "\n",
    "    scaled_list_test = [test[col] for col in test]\n",
    "    scaled_list_test = scaler.transform(scaled_list_test)\n",
    "\n",
    "    return scaler, scaled_list_train, scaled_list_test"
   ]
  },
  {
   "attachments": {},
   "cell_type": "markdown",
   "metadata": {},
   "source": [
    "# Principal Component Analysis"
   ]
  },
  {
   "cell_type": "code",
   "execution_count": 15,
   "metadata": {},
   "outputs": [],
   "source": [
    "def create_pca(data):\n",
    "    temp = data.copy()\n",
    "    \n",
    "    pca = PCA(n_components=0.85, svd_solver='full')\n",
    " \n",
    "    # Fit and transform data\n",
    "    pca_features = pca.fit_transform(temp)\n",
    "\n",
    "    return pca_features"
   ]
  },
  {
   "cell_type": "code",
   "execution_count": 17,
   "metadata": {},
   "outputs": [],
   "source": [
    "def create_kmeans(pca_data, scaled_train, scaled_test):\n",
    "    temp_pca_data = pca_data.copy()\n",
    "    temp_scaled_train = scaled_train.copy()\n",
    "    temp_scaled_test = scaled_test.copy()\n",
    "\n",
    "    kmeans_pca = TimeSeriesKMeans(n_clusters=4, metric=\"dtw\", n_jobs=-1).fit(temp_pca_data)\n",
    "    train_pca_features = kmeans_pca.predict(temp_scaled_train)\n",
    "    test_pca_features = kmeans_pca.predict(temp_scaled_test)\n",
    "\n",
    "    return train_pca_features, test_pca_features"
   ]
  },
  {
   "attachments": {},
   "cell_type": "markdown",
   "metadata": {},
   "source": [
    "# Train different lstm models"
   ]
  },
  {
   "cell_type": "code",
   "execution_count": 24,
   "metadata": {},
   "outputs": [],
   "source": [
    "def func(train1, test1, scaler, look_back=3):\n",
    "\n",
    "    training, testing = train1.copy(), test1.copy()\n",
    "\n",
    "    look_back = 3\n",
    "    \n",
    "    def create_dataset(dataset, look_back=3):\n",
    "        dataX, dataY = [], []\n",
    "        for i in range(len(dataset)-look_back-1):\n",
    "            a = dataset[i:(i+look_back), 0]\n",
    "            dataX.append(a)\n",
    "            dataY.append(dataset[i + look_back, 0])\n",
    "        return np.array(dataX), np.array(dataY)\n",
    "\n",
    "\n",
    "    early_stopping = tf.keras.callbacks.EarlyStopping(monitor='loss', patience=3)\n",
    "    reduce_lr = tf.keras.callbacks.ReduceLROnPlateau(monitor='loss', factor=0.2, patience=2, min_lr=0.001, verbose=2)\n",
    "\n",
    "    # create and fit the LSTM network\n",
    "    model = Sequential()\n",
    "    model.add(LSTM(4, input_shape=(1, look_back)))\n",
    "    model.add(Dense(1))\n",
    "    model.compile(loss='mean_squared_error', optimizer='adam', metrics=['mse'])\n",
    "\n",
    "    if training.ndim > 1:\n",
    "        for train_it in tqdm(training): \n",
    "            train_it = train_it.reshape(-1, 1)\n",
    "            \n",
    "            # reshape into X=t and Y=t+1\n",
    "            trainX, trainY = create_dataset(train_it, look_back)\n",
    "            # testX, testY = create_dataset(testing, look_back)\n",
    "\n",
    "        # reshape input to be [samples, time steps, features]\n",
    "            trainX = np.reshape(trainX, (trainX.shape[0], 1, trainX.shape[1]))\n",
    "            # testX = np.reshape(testX, (testX.shape[0], 1, testX.shape[1]))\n",
    "\n",
    "            model.fit(trainX, trainY, epochs=50, verbose=0, callbacks=[early_stopping, reduce_lr])\n",
    "    else:\n",
    "        train_it = training\n",
    "        train_it = train_it.reshape(-1, 1)\n",
    "        \n",
    "        # reshape into X=t and Y=t+1\n",
    "        trainX, trainY = create_dataset(train_it, look_back)\n",
    "        # testX, testY = create_dataset(testing, look_back)\n",
    "\n",
    "    # reshape input to be [samples, time steps, features]\n",
    "        trainX = np.reshape(trainX, (trainX.shape[0], 1, trainX.shape[1]))\n",
    "        # testX = np.reshape(testX, (testX.shape[0], 1, testX.shape[1]))\n",
    "\n",
    "        model.fit(trainX, trainY, epochs=50, verbose=0, callbacks=[early_stopping, reduce_lr])\n",
    "\n",
    "    rmse_train = []\n",
    "    rmse_test = []\n",
    "\n",
    "    mae_train = []\n",
    "    mae_test = []\n",
    "\n",
    "    mape_train = []\n",
    "    mape_test = []\n",
    "\n",
    "    if training.ndim > 1:\n",
    "        for train_it in training:\n",
    "            train_it = train_it.reshape(-1, 1)\n",
    "\n",
    "            trainX, trainY = create_dataset(train_it, look_back)\n",
    "\n",
    "            trainX = np.reshape(trainX, (trainX.shape[0], 1, trainX.shape[1]))\n",
    "            \n",
    "            trainPredict = model.predict(trainX, verbose=0)\n",
    "            \n",
    "            trainPredict = np.repeat(trainPredict, train1.shape[1], axis=-1)\n",
    "            trainPredict = scaler.inverse_transform(trainPredict)[:,0]\n",
    "            \n",
    "            trainY = np.repeat(trainY.reshape(-1, 1), train1.shape[1], axis=-1)\n",
    "            trainY = scaler.inverse_transform(trainY)[:,0]\n",
    "            \n",
    "            rmse_train.append(np.sqrt(mean_squared_error(trainY, trainPredict)))\n",
    "            mae_train.append(tf.keras.metrics.mean_absolute_error(trainY, trainPredict).numpy())\n",
    "            mape_train.append(tf.keras.metrics.mean_absolute_percentage_error(trainY, trainPredict).numpy())\n",
    "    else:\n",
    "        train_it = training\n",
    "        train_it = train_it.reshape(-1, 1)\n",
    "\n",
    "        trainX, trainY = create_dataset(train_it, look_back)\n",
    "\n",
    "        trainX = np.reshape(trainX, (trainX.shape[0], 1, trainX.shape[1]))\n",
    "        \n",
    "        trainPredict = model.predict(trainX, verbose=0)\n",
    "        \n",
    "        trainPredict = np.repeat(trainPredict, train1.shape[1], axis=-1)\n",
    "        trainPredict = scaler.inverse_transform(trainPredict)[:,0]\n",
    "        \n",
    "        trainY = np.repeat(trainY.reshape(-1, 1), train1.shape[1], axis=-1)\n",
    "        trainY = scaler.inverse_transform(trainY)[:,0]\n",
    "        \n",
    "        rmse_train.append(np.sqrt(mean_squared_error(trainY, trainPredict)))\n",
    "        mae_train.append(tf.keras.metrics.mean_absolute_error(trainY, trainPredict).numpy())\n",
    "        mape_train.append(tf.keras.metrics.mean_absolute_percentage_error(trainY, trainPredict).numpy())\n",
    "\n",
    "\n",
    "    if testing.ndim > 1:\n",
    "        for test_it in testing:   \n",
    "            try:\n",
    "                \n",
    "                test_it = test_it.reshape(-1, 1) \n",
    "                # reshape into X=t and Y=t+1\n",
    "                \n",
    "                testX, testY = create_dataset(test_it, look_back)\n",
    "            # reshape input to be [samples, time steps, features]\n",
    "                \n",
    "                testX = np.reshape(testX, (testX.shape[0], 1, testX.shape[1]))\n",
    "\n",
    "            # make predictions\n",
    "                \n",
    "                testPredict = model.predict(testX, verbose=0)\n",
    "                # invert predictions\n",
    "            \n",
    "                testPredict = np.repeat(testPredict, test1.shape[1], axis=-1)\n",
    "                testPredict = scaler.inverse_transform(testPredict)[:,0]\n",
    "\n",
    "                testY = np.repeat(testY.reshape(-1, 1), test1.shape[1], axis=-1)\n",
    "                testY = scaler.inverse_transform(testY)[:,0]\n",
    "\n",
    "                # calculate different evaluation metrics\n",
    "                \n",
    "                rmse_test.append(np.sqrt(mean_squared_error(testY, testPredict)))\n",
    "                mae_test.append(tf.keras.metrics.mean_absolute_error(testY, testPredict).numpy())\n",
    "                mape_test.append(tf.keras.metrics.mean_absolute_percentage_error(testY, testPredict).numpy())\n",
    "            except:\n",
    "                print(\"exception occured\")\n",
    "                rmse_train.append(-1)\n",
    "                mae_train.append(-1)\n",
    "                mape_train.append(-1)\n",
    "    else:\n",
    "        try:\n",
    "            test_it = testing\n",
    "            test_it = test_it.reshape(-1, 1) \n",
    "            # reshape into X=t and Y=t+1\n",
    "            \n",
    "            testX, testY = create_dataset(test_it, look_back)\n",
    "        # reshape input to be [samples, time steps, features]\n",
    "            \n",
    "            testX = np.reshape(testX, (testX.shape[0], 1, testX.shape[1]))\n",
    "\n",
    "        # make predictions\n",
    "            \n",
    "            testPredict = model.predict(testX, verbose=0)\n",
    "            # invert predictions\n",
    "        \n",
    "            testPredict = np.repeat(testPredict, test1.shape[1], axis=-1)\n",
    "            testPredict = scaler.inverse_transform(testPredict)[:,0]\n",
    "\n",
    "            testY = np.repeat(testY.reshape(-1, 1), test1.shape[1], axis=-1)\n",
    "            testY = scaler.inverse_transform(testY)[:,0]\n",
    "\n",
    "            # calculate different evaluation metrics\n",
    "            \n",
    "            rmse_test.append(np.sqrt(mean_squared_error(testY, testPredict)))\n",
    "            mae_test.append(tf.keras.metrics.mean_absolute_error(testY, testPredict).numpy())\n",
    "            mape_test.append(tf.keras.metrics.mean_absolute_percentage_error(testY, testPredict).numpy())\n",
    "        except:\n",
    "            print(\"exception occured\")\n",
    "            rmse_test.append(-1)\n",
    "            mae_test.append(-1)\n",
    "            mape_test.append(-1)\n",
    "\n",
    "    return (rmse_train, rmse_test, mae_train, mae_test, mape_train, mape_test)\n",
    "    # return (name, (rmse_train, rmse_test, mae_train, mae_test, mape_train, mape_test))"
   ]
  },
  {
   "cell_type": "code",
   "execution_count": 25,
   "metadata": {},
   "outputs": [
    {
     "name": "stdout",
     "output_type": "stream",
     "text": [
      "Location 1 - flow\n"
     ]
    },
    {
     "name": "stderr",
     "output_type": "stream",
     "text": [
      "c:\\Users\\Martin\\anaconda3\\envs\\thesis_2\\lib\\site-packages\\tslearn\\utils\\utils.py:88: UserWarning: 2-Dimensional data passed. Assuming these are 1702 1-dimensional timeseries\n",
      "  warnings.warn('2-Dimensional data passed. Assuming these are '\n",
      "c:\\Users\\Martin\\anaconda3\\envs\\thesis_2\\lib\\site-packages\\tslearn\\utils\\utils.py:88: UserWarning: 2-Dimensional data passed. Assuming these are 426 1-dimensional timeseries\n",
      "  warnings.warn('2-Dimensional data passed. Assuming these are '\n"
     ]
    },
    {
     "name": "stdout",
     "output_type": "stream",
     "text": [
      "Counter({1: 1658, 3: 33, 2: 11}) Counter({1: 423, 3: 2, 2: 1})\n"
     ]
    },
    {
     "name": "stderr",
     "output_type": "stream",
     "text": [
      "100%|██████████| 1658/1658 [06:27<00:00,  4.28it/s]\n",
      "100%|██████████| 33/33 [00:19<00:00,  1.69it/s]\n",
      "100%|██████████| 11/11 [00:12<00:00,  1.10s/it]\n"
     ]
    },
    {
     "name": "stdout",
     "output_type": "stream",
     "text": [
      "Location 2 - consumption\n"
     ]
    },
    {
     "name": "stderr",
     "output_type": "stream",
     "text": [
      "c:\\Users\\Martin\\anaconda3\\envs\\thesis_2\\lib\\site-packages\\tslearn\\utils\\utils.py:88: UserWarning: 2-Dimensional data passed. Assuming these are 1702 1-dimensional timeseries\n",
      "  warnings.warn('2-Dimensional data passed. Assuming these are '\n",
      "c:\\Users\\Martin\\anaconda3\\envs\\thesis_2\\lib\\site-packages\\tslearn\\utils\\utils.py:88: UserWarning: 2-Dimensional data passed. Assuming these are 426 1-dimensional timeseries\n",
      "  warnings.warn('2-Dimensional data passed. Assuming these are '\n"
     ]
    },
    {
     "name": "stdout",
     "output_type": "stream",
     "text": [
      "Counter({2: 1649, 1: 52, 3: 1}) Counter({2: 422, 1: 4})\n"
     ]
    },
    {
     "name": "stderr",
     "output_type": "stream",
     "text": [
      "100%|██████████| 1649/1649 [06:18<00:00,  4.36it/s]\n",
      "100%|██████████| 52/52 [00:23<00:00,  2.24it/s]\n",
      "100%|██████████| 1/1 [00:02<00:00,  2.38s/it]\n",
      "c:\\Users\\Martin\\anaconda3\\envs\\thesis_2\\lib\\site-packages\\numpy\\core\\fromnumeric.py:3464: RuntimeWarning: Mean of empty slice.\n",
      "  return _methods._mean(a, axis=axis, dtype=dtype,\n",
      "c:\\Users\\Martin\\anaconda3\\envs\\thesis_2\\lib\\site-packages\\numpy\\core\\_methods.py:192: RuntimeWarning: invalid value encountered in scalar divide\n",
      "  ret = ret.dtype.type(ret / rcount)\n"
     ]
    },
    {
     "name": "stdout",
     "output_type": "stream",
     "text": [
      "Location 3 - consumption\n"
     ]
    },
    {
     "name": "stderr",
     "output_type": "stream",
     "text": [
      "c:\\Users\\Martin\\anaconda3\\envs\\thesis_2\\lib\\site-packages\\tslearn\\utils\\utils.py:88: UserWarning: 2-Dimensional data passed. Assuming these are 1702 1-dimensional timeseries\n",
      "  warnings.warn('2-Dimensional data passed. Assuming these are '\n",
      "c:\\Users\\Martin\\anaconda3\\envs\\thesis_2\\lib\\site-packages\\tslearn\\utils\\utils.py:88: UserWarning: 2-Dimensional data passed. Assuming these are 426 1-dimensional timeseries\n",
      "  warnings.warn('2-Dimensional data passed. Assuming these are '\n"
     ]
    },
    {
     "name": "stdout",
     "output_type": "stream",
     "text": [
      "Counter({1: 1688, 2: 8, 3: 6}) Counter({1: 425, 3: 1})\n"
     ]
    },
    {
     "name": "stderr",
     "output_type": "stream",
     "text": [
      "100%|██████████| 1688/1688 [06:41<00:00,  4.20it/s]\n",
      "100%|██████████| 6/6 [00:07<00:00,  1.20s/it]\n",
      "100%|██████████| 8/8 [00:09<00:00,  1.14s/it]\n",
      "c:\\Users\\Martin\\anaconda3\\envs\\thesis_2\\lib\\site-packages\\numpy\\core\\fromnumeric.py:3464: RuntimeWarning: Mean of empty slice.\n",
      "  return _methods._mean(a, axis=axis, dtype=dtype,\n",
      "c:\\Users\\Martin\\anaconda3\\envs\\thesis_2\\lib\\site-packages\\numpy\\core\\_methods.py:192: RuntimeWarning: invalid value encountered in scalar divide\n",
      "  ret = ret.dtype.type(ret / rcount)\n"
     ]
    },
    {
     "name": "stdout",
     "output_type": "stream",
     "text": [
      "Location 4 - consumption\n"
     ]
    },
    {
     "name": "stderr",
     "output_type": "stream",
     "text": [
      "c:\\Users\\Martin\\anaconda3\\envs\\thesis_2\\lib\\site-packages\\tslearn\\utils\\utils.py:88: UserWarning: 2-Dimensional data passed. Assuming these are 1702 1-dimensional timeseries\n",
      "  warnings.warn('2-Dimensional data passed. Assuming these are '\n",
      "c:\\Users\\Martin\\anaconda3\\envs\\thesis_2\\lib\\site-packages\\tslearn\\utils\\utils.py:88: UserWarning: 2-Dimensional data passed. Assuming these are 426 1-dimensional timeseries\n",
      "  warnings.warn('2-Dimensional data passed. Assuming these are '\n"
     ]
    },
    {
     "name": "stdout",
     "output_type": "stream",
     "text": [
      "Counter({0: 1691, 2: 8, 3: 3}) Counter({0: 424, 2: 1, 3: 1})\n"
     ]
    },
    {
     "name": "stderr",
     "output_type": "stream",
     "text": [
      "100%|██████████| 1691/1691 [06:37<00:00,  4.25it/s]\n",
      "100%|██████████| 8/8 [00:07<00:00,  1.08it/s]\n",
      "100%|██████████| 3/3 [00:04<00:00,  1.35s/it]\n"
     ]
    },
    {
     "name": "stdout",
     "output_type": "stream",
     "text": [
      "Location 5 - consumption\n"
     ]
    },
    {
     "name": "stderr",
     "output_type": "stream",
     "text": [
      "c:\\Users\\Martin\\anaconda3\\envs\\thesis_2\\lib\\site-packages\\tslearn\\utils\\utils.py:88: UserWarning: 2-Dimensional data passed. Assuming these are 1702 1-dimensional timeseries\n",
      "  warnings.warn('2-Dimensional data passed. Assuming these are '\n",
      "c:\\Users\\Martin\\anaconda3\\envs\\thesis_2\\lib\\site-packages\\tslearn\\utils\\utils.py:88: UserWarning: 2-Dimensional data passed. Assuming these are 426 1-dimensional timeseries\n",
      "  warnings.warn('2-Dimensional data passed. Assuming these are '\n"
     ]
    },
    {
     "name": "stdout",
     "output_type": "stream",
     "text": [
      "Counter({1: 1696, 3: 6}) Counter({1: 425, 3: 1})\n"
     ]
    },
    {
     "name": "stderr",
     "output_type": "stream",
     "text": [
      "100%|██████████| 1696/1696 [06:29<00:00,  4.36it/s]\n",
      "100%|██████████| 6/6 [00:06<00:00,  1.07s/it]\n"
     ]
    },
    {
     "name": "stdout",
     "output_type": "stream",
     "text": [
      "Location 6 - head\n"
     ]
    },
    {
     "name": "stderr",
     "output_type": "stream",
     "text": [
      "c:\\Users\\Martin\\anaconda3\\envs\\thesis_2\\lib\\site-packages\\tslearn\\utils\\utils.py:88: UserWarning: 2-Dimensional data passed. Assuming these are 1702 1-dimensional timeseries\n",
      "  warnings.warn('2-Dimensional data passed. Assuming these are '\n",
      "c:\\Users\\Martin\\anaconda3\\envs\\thesis_2\\lib\\site-packages\\tslearn\\utils\\utils.py:88: UserWarning: 2-Dimensional data passed. Assuming these are 426 1-dimensional timeseries\n",
      "  warnings.warn('2-Dimensional data passed. Assuming these are '\n"
     ]
    },
    {
     "name": "stdout",
     "output_type": "stream",
     "text": [
      "Counter({2: 1696, 1: 6}) Counter({2: 424, 1: 2})\n"
     ]
    },
    {
     "name": "stderr",
     "output_type": "stream",
     "text": [
      "100%|██████████| 1696/1696 [06:29<00:00,  4.36it/s]\n",
      "100%|██████████| 6/6 [00:06<00:00,  1.08s/it]\n"
     ]
    },
    {
     "name": "stdout",
     "output_type": "stream",
     "text": [
      "Location 7 - head\n"
     ]
    },
    {
     "name": "stderr",
     "output_type": "stream",
     "text": [
      "c:\\Users\\Martin\\anaconda3\\envs\\thesis_2\\lib\\site-packages\\tslearn\\utils\\utils.py:88: UserWarning: 2-Dimensional data passed. Assuming these are 1702 1-dimensional timeseries\n",
      "  warnings.warn('2-Dimensional data passed. Assuming these are '\n",
      "c:\\Users\\Martin\\anaconda3\\envs\\thesis_2\\lib\\site-packages\\tslearn\\utils\\utils.py:88: UserWarning: 2-Dimensional data passed. Assuming these are 426 1-dimensional timeseries\n",
      "  warnings.warn('2-Dimensional data passed. Assuming these are '\n"
     ]
    },
    {
     "name": "stdout",
     "output_type": "stream",
     "text": [
      "Counter({0: 1600, 1: 102}) Counter({0: 419, 1: 6, 3: 1})\n"
     ]
    },
    {
     "name": "stderr",
     "output_type": "stream",
     "text": [
      "100%|██████████| 1600/1600 [06:03<00:00,  4.40it/s]\n",
      "100%|██████████| 102/102 [00:33<00:00,  3.00it/s]\n"
     ]
    },
    {
     "name": "stdout",
     "output_type": "stream",
     "text": [
      "Location 8 - flow\n"
     ]
    },
    {
     "name": "stderr",
     "output_type": "stream",
     "text": [
      "c:\\Users\\Martin\\anaconda3\\envs\\thesis_2\\lib\\site-packages\\tslearn\\utils\\utils.py:88: UserWarning: 2-Dimensional data passed. Assuming these are 1702 1-dimensional timeseries\n",
      "  warnings.warn('2-Dimensional data passed. Assuming these are '\n",
      "c:\\Users\\Martin\\anaconda3\\envs\\thesis_2\\lib\\site-packages\\tslearn\\utils\\utils.py:88: UserWarning: 2-Dimensional data passed. Assuming these are 426 1-dimensional timeseries\n",
      "  warnings.warn('2-Dimensional data passed. Assuming these are '\n"
     ]
    },
    {
     "name": "stdout",
     "output_type": "stream",
     "text": [
      "Counter({0: 1697, 2: 5}) Counter({0: 425, 2: 1})\n"
     ]
    },
    {
     "name": "stderr",
     "output_type": "stream",
     "text": [
      "100%|██████████| 1697/1697 [06:22<00:00,  4.44it/s]\n",
      "100%|██████████| 5/5 [00:06<00:00,  1.22s/it]\n"
     ]
    },
    {
     "name": "stdout",
     "output_type": "stream",
     "text": [
      "Location 9 - head\n"
     ]
    },
    {
     "name": "stderr",
     "output_type": "stream",
     "text": [
      "c:\\Users\\Martin\\anaconda3\\envs\\thesis_2\\lib\\site-packages\\tslearn\\utils\\utils.py:88: UserWarning: 2-Dimensional data passed. Assuming these are 1702 1-dimensional timeseries\n",
      "  warnings.warn('2-Dimensional data passed. Assuming these are '\n",
      "c:\\Users\\Martin\\anaconda3\\envs\\thesis_2\\lib\\site-packages\\tslearn\\utils\\utils.py:88: UserWarning: 2-Dimensional data passed. Assuming these are 426 1-dimensional timeseries\n",
      "  warnings.warn('2-Dimensional data passed. Assuming these are '\n"
     ]
    },
    {
     "name": "stdout",
     "output_type": "stream",
     "text": [
      "Counter({0: 1686, 2: 16}) Counter({0: 425, 2: 1})\n"
     ]
    },
    {
     "name": "stderr",
     "output_type": "stream",
     "text": [
      "100%|██████████| 1686/1686 [06:50<00:00,  4.10it/s]\n",
      "100%|██████████| 16/16 [00:13<00:00,  1.18it/s]\n"
     ]
    },
    {
     "name": "stdout",
     "output_type": "stream",
     "text": [
      "Location 10 - flow\n"
     ]
    },
    {
     "name": "stderr",
     "output_type": "stream",
     "text": [
      "c:\\Users\\Martin\\anaconda3\\envs\\thesis_2\\lib\\site-packages\\tslearn\\utils\\utils.py:88: UserWarning: 2-Dimensional data passed. Assuming these are 1702 1-dimensional timeseries\n",
      "  warnings.warn('2-Dimensional data passed. Assuming these are '\n",
      "c:\\Users\\Martin\\anaconda3\\envs\\thesis_2\\lib\\site-packages\\tslearn\\utils\\utils.py:88: UserWarning: 2-Dimensional data passed. Assuming these are 426 1-dimensional timeseries\n",
      "  warnings.warn('2-Dimensional data passed. Assuming these are '\n"
     ]
    },
    {
     "name": "stdout",
     "output_type": "stream",
     "text": [
      "Counter({0: 1308, 2: 392, 1: 2}) Counter({0: 226, 2: 200})\n"
     ]
    },
    {
     "name": "stderr",
     "output_type": "stream",
     "text": [
      "100%|██████████| 392/392 [01:47<00:00,  3.66it/s]\n",
      "100%|██████████| 1308/1308 [04:57<00:00,  4.40it/s]\n",
      "100%|██████████| 2/2 [00:02<00:00,  1.42s/it]\n",
      "c:\\Users\\Martin\\anaconda3\\envs\\thesis_2\\lib\\site-packages\\numpy\\core\\fromnumeric.py:3464: RuntimeWarning: Mean of empty slice.\n",
      "  return _methods._mean(a, axis=axis, dtype=dtype,\n",
      "c:\\Users\\Martin\\anaconda3\\envs\\thesis_2\\lib\\site-packages\\numpy\\core\\_methods.py:192: RuntimeWarning: invalid value encountered in scalar divide\n",
      "  ret = ret.dtype.type(ret / rcount)\n"
     ]
    },
    {
     "name": "stdout",
     "output_type": "stream",
     "text": [
      "Location 11 - head\n"
     ]
    },
    {
     "name": "stderr",
     "output_type": "stream",
     "text": [
      "c:\\Users\\Martin\\anaconda3\\envs\\thesis_2\\lib\\site-packages\\tslearn\\utils\\utils.py:88: UserWarning: 2-Dimensional data passed. Assuming these are 1702 1-dimensional timeseries\n",
      "  warnings.warn('2-Dimensional data passed. Assuming these are '\n",
      "c:\\Users\\Martin\\anaconda3\\envs\\thesis_2\\lib\\site-packages\\tslearn\\utils\\utils.py:88: UserWarning: 2-Dimensional data passed. Assuming these are 426 1-dimensional timeseries\n",
      "  warnings.warn('2-Dimensional data passed. Assuming these are '\n"
     ]
    },
    {
     "name": "stdout",
     "output_type": "stream",
     "text": [
      "Counter({0: 1479, 3: 221, 2: 2}) Counter({0: 375, 3: 51})\n"
     ]
    },
    {
     "name": "stderr",
     "output_type": "stream",
     "text": [
      "100%|██████████| 1479/1479 [05:51<00:00,  4.20it/s]\n",
      "100%|██████████| 221/221 [00:54<00:00,  4.06it/s]\n",
      "100%|██████████| 2/2 [00:02<00:00,  1.43s/it]\n",
      "c:\\Users\\Martin\\anaconda3\\envs\\thesis_2\\lib\\site-packages\\numpy\\core\\fromnumeric.py:3464: RuntimeWarning: Mean of empty slice.\n",
      "  return _methods._mean(a, axis=axis, dtype=dtype,\n",
      "c:\\Users\\Martin\\anaconda3\\envs\\thesis_2\\lib\\site-packages\\numpy\\core\\_methods.py:192: RuntimeWarning: invalid value encountered in scalar divide\n",
      "  ret = ret.dtype.type(ret / rcount)\n"
     ]
    },
    {
     "name": "stdout",
     "output_type": "stream",
     "text": [
      "Location 11 - flow\n"
     ]
    },
    {
     "name": "stderr",
     "output_type": "stream",
     "text": [
      "c:\\Users\\Martin\\anaconda3\\envs\\thesis_2\\lib\\site-packages\\tslearn\\utils\\utils.py:88: UserWarning: 2-Dimensional data passed. Assuming these are 1702 1-dimensional timeseries\n",
      "  warnings.warn('2-Dimensional data passed. Assuming these are '\n",
      "c:\\Users\\Martin\\anaconda3\\envs\\thesis_2\\lib\\site-packages\\tslearn\\utils\\utils.py:88: UserWarning: 2-Dimensional data passed. Assuming these are 426 1-dimensional timeseries\n",
      "  warnings.warn('2-Dimensional data passed. Assuming these are '\n"
     ]
    },
    {
     "name": "stdout",
     "output_type": "stream",
     "text": [
      "Counter({0: 1696, 3: 6}) Counter({0: 425, 3: 1})\n"
     ]
    },
    {
     "name": "stderr",
     "output_type": "stream",
     "text": [
      "100%|██████████| 1696/1696 [06:48<00:00,  4.15it/s]\n",
      "100%|██████████| 6/6 [00:06<00:00,  1.13s/it]\n"
     ]
    },
    {
     "name": "stdout",
     "output_type": "stream",
     "text": [
      "Location 12 - head\n"
     ]
    },
    {
     "name": "stderr",
     "output_type": "stream",
     "text": [
      "c:\\Users\\Martin\\anaconda3\\envs\\thesis_2\\lib\\site-packages\\tslearn\\utils\\utils.py:88: UserWarning: 2-Dimensional data passed. Assuming these are 1702 1-dimensional timeseries\n",
      "  warnings.warn('2-Dimensional data passed. Assuming these are '\n",
      "c:\\Users\\Martin\\anaconda3\\envs\\thesis_2\\lib\\site-packages\\tslearn\\utils\\utils.py:88: UserWarning: 2-Dimensional data passed. Assuming these are 426 1-dimensional timeseries\n",
      "  warnings.warn('2-Dimensional data passed. Assuming these are '\n"
     ]
    },
    {
     "name": "stdout",
     "output_type": "stream",
     "text": [
      "Counter({1: 1684, 2: 11, 0: 7}) Counter({1: 423, 2: 2, 0: 1})\n"
     ]
    },
    {
     "name": "stderr",
     "output_type": "stream",
     "text": [
      "100%|██████████| 1684/1684 [06:27<00:00,  4.34it/s]\n",
      "100%|██████████| 11/11 [00:11<00:00,  1.00s/it]\n",
      "100%|██████████| 7/7 [00:08<00:00,  1.15s/it]\n"
     ]
    }
   ],
   "source": [
    "\n",
    "\n",
    "complete_results = []\n",
    "for location in RUG.columns:\n",
    "    print(location)\n",
    "    data = get_data(location)\n",
    "\n",
    "    scaler, scaled_list_train, scaled_list_test = scale_data(data)\n",
    "    \n",
    "    pca_features = create_pca(scaled_list_train)\n",
    "\n",
    "    train_pca_features, test_pca_features = create_kmeans(pca_features, scaled_list_train, scaled_list_test)\n",
    "    print(Counter(train_pca_features), Counter(test_pca_features))\n",
    "\n",
    "    for cluster in [*Counter(train_pca_features)]:\n",
    "        cluster_train = scaled_list_train[np.where(train_pca_features == cluster)]\n",
    "        cluster_test = scaled_list_test[np.where(test_pca_features == cluster)]\n",
    "\n",
    "        reply = func(cluster_train, cluster_test, scaler)\n",
    "        \n",
    "        complete_results.append([location, [cluster, [np.mean(reply[0]), np.mean(reply[1]), np.mean(reply[2]), np.mean(reply[3]), np.mean(reply[4]), np.mean(reply[5])]]])"
   ]
  },
  {
   "cell_type": "code",
   "execution_count": 26,
   "metadata": {},
   "outputs": [
    {
     "data": {
      "text/plain": [
       "[['Location 1 - flow',\n",
       "  [1,\n",
       "   [0.5268215716499038,\n",
       "    0.5463612214867182,\n",
       "    0.26355627,\n",
       "    0.2817759,\n",
       "    64.06256,\n",
       "    98.609726]]],\n",
       " ['Location 1 - flow',\n",
       "  [3,\n",
       "   [0.5021563569856381,\n",
       "    0.6352111145525676,\n",
       "    0.24563965,\n",
       "    0.3960265,\n",
       "    21.834711,\n",
       "    90.095024]]],\n",
       " ['Location 1 - flow',\n",
       "  [2,\n",
       "   [0.6262935132500647,\n",
       "    0.7785258541264611,\n",
       "    0.29811725,\n",
       "    0.4877977,\n",
       "    52.022095,\n",
       "    128.21033]]],\n",
       " ['Location 2 - consumption',\n",
       "  [2,\n",
       "   [0.5249310207056396,\n",
       "    0.5441503245155949,\n",
       "    0.2593826,\n",
       "    0.27772963,\n",
       "    58.671265,\n",
       "    90.83446]]],\n",
       " ['Location 2 - consumption',\n",
       "  [1,\n",
       "   [0.5513351836915648,\n",
       "    0.6789877511067335,\n",
       "    0.25420567,\n",
       "    0.41334838,\n",
       "    35.38569,\n",
       "    85.69394]]],\n",
       " ['Location 2 - consumption',\n",
       "  [3, [1.170838254320146, nan, 1.0903722, nan, 29.467968, nan]]],\n",
       " ['Location 3 - consumption',\n",
       "  [1,\n",
       "   [0.5271949852953033,\n",
       "    0.5427170489333447,\n",
       "    0.2617731,\n",
       "    0.27891603,\n",
       "    52.49678,\n",
       "    80.89638]]],\n",
       " ['Location 3 - consumption',\n",
       "  [3,\n",
       "   [0.6093396067607374,\n",
       "    0.7964783652206937,\n",
       "    0.32435653,\n",
       "    0.5029354,\n",
       "    33.27697,\n",
       "    108.62179]]],\n",
       " ['Location 3 - consumption',\n",
       "  [2, [0.6406690976392875, nan, 0.31403244, nan, 52.48872, nan]]],\n",
       " ['Location 4 - consumption',\n",
       "  [0,\n",
       "   [0.5289042485239082,\n",
       "    0.5473272278858902,\n",
       "    0.27026716,\n",
       "    0.28496894,\n",
       "    64.23964,\n",
       "    100.078606]]],\n",
       " ['Location 4 - consumption',\n",
       "  [2,\n",
       "   [0.5903611067864742,\n",
       "    0.6489432459381831,\n",
       "    0.3214071,\n",
       "    0.4142665,\n",
       "    34.403748,\n",
       "    24.993614]]],\n",
       " ['Location 4 - consumption',\n",
       "  [3,\n",
       "   [0.6905847400579551,\n",
       "    0.871372086750524,\n",
       "    0.34074262,\n",
       "    0.60253876,\n",
       "    34.467922,\n",
       "    119.588]]],\n",
       " ['Location 5 - consumption',\n",
       "  [1,\n",
       "   [0.5284568812062853,\n",
       "    0.5476736857135346,\n",
       "    0.2698773,\n",
       "    0.2856666,\n",
       "    65.33362,\n",
       "    101.69965]]],\n",
       " ['Location 5 - consumption',\n",
       "  [3,\n",
       "   [0.6328647770066642,\n",
       "    0.8304145480546182,\n",
       "    0.3001385,\n",
       "    0.54615414,\n",
       "    30.499338,\n",
       "    123.05223]]],\n",
       " ['Location 6 - head',\n",
       "  [2,\n",
       "   [0.5268099325728055,\n",
       "    0.5460484652255799,\n",
       "    0.2612436,\n",
       "    0.27913707,\n",
       "    61.858025,\n",
       "    96.87219]]],\n",
       " ['Location 6 - head',\n",
       "  [1,\n",
       "   [0.6672661761434365,\n",
       "    0.7761954268300224,\n",
       "    0.32282147,\n",
       "    0.49933335,\n",
       "    30.045515,\n",
       "    63.518234]]],\n",
       " ['Location 7 - head',\n",
       "  [0,\n",
       "   [0.5244635649822791,\n",
       "    0.5415035698549513,\n",
       "    0.26180625,\n",
       "    0.28407785,\n",
       "    57.565704,\n",
       "    86.31705]]],\n",
       " ['Location 7 - head',\n",
       "  [1,\n",
       "   [0.5364317686813004,\n",
       "    0.6059599778632666,\n",
       "    0.29689437,\n",
       "    0.38708374,\n",
       "    41.888527,\n",
       "    85.239746]]],\n",
       " ['Location 8 - flow',\n",
       "  [0,\n",
       "   [0.5276122545481419,\n",
       "    0.5433014872048744,\n",
       "    0.2549152,\n",
       "    0.27293944,\n",
       "    48.55911,\n",
       "    75.67024]]],\n",
       " ['Location 8 - flow',\n",
       "  [2,\n",
       "   [0.6963309056122944,\n",
       "    0.9142454728813166,\n",
       "    0.37277576,\n",
       "    0.5939737,\n",
       "    36.82671,\n",
       "    125.53251]]],\n",
       " ['Location 9 - head',\n",
       "  [0,\n",
       "   [0.5267056696090521,\n",
       "    0.5419040582724243,\n",
       "    0.25900894,\n",
       "    0.2755493,\n",
       "    49.932854,\n",
       "    76.94409]]],\n",
       " ['Location 9 - head',\n",
       "  [2,\n",
       "   [0.6071736191521793,\n",
       "    0.7796450974763663,\n",
       "    0.2606582,\n",
       "    0.46737683,\n",
       "    46.843887,\n",
       "    127.27248]]],\n",
       " ['Location 10 - flow',\n",
       "  [2,\n",
       "   [0.5288134147401982,\n",
       "    0.49464970122389706,\n",
       "    0.2816943,\n",
       "    0.24635449,\n",
       "    44.0874,\n",
       "    42.062305]]],\n",
       " ['Location 10 - flow',\n",
       "  [0,\n",
       "   [0.5256926881622527,\n",
       "    0.5933803906663934,\n",
       "    0.25897673,\n",
       "    0.3420153,\n",
       "    65.76069,\n",
       "    146.21292]]],\n",
       " ['Location 10 - flow',\n",
       "  [1, [0.6872035622467461, nan, 0.41700307, nan, 67.74531, nan]]],\n",
       " ['Location 11 - head',\n",
       "  [0,\n",
       "   [0.5264101239178187,\n",
       "    0.5372518224688112,\n",
       "    0.2712721,\n",
       "    0.27569,\n",
       "    66.280624,\n",
       "    96.80102]]],\n",
       " ['Location 11 - head',\n",
       "  [3,\n",
       "   [0.5495168272896287,\n",
       "    0.63222295769997,\n",
       "    0.29837883,\n",
       "    0.39524186,\n",
       "    68.56506,\n",
       "    155.71048]]],\n",
       " ['Location 11 - head',\n",
       "  [2, [1.0123735001000984, nan, 0.65010893, nan, 114.2799, nan]]],\n",
       " ['Location 11 - flow',\n",
       "  [0,\n",
       "   [0.5259548604593643,\n",
       "    0.5404744067044148,\n",
       "    0.25938818,\n",
       "    0.27611858,\n",
       "    51.174828,\n",
       "    79.75692]]],\n",
       " ['Location 11 - flow',\n",
       "  [3,\n",
       "   [0.656906610518427,\n",
       "    0.8889268122583697,\n",
       "    0.34083298,\n",
       "    0.5763095,\n",
       "    36.478115,\n",
       "    148.08238]]],\n",
       " ['Location 12 - head',\n",
       "  [1,\n",
       "   [0.5268443705690267,\n",
       "    0.5458986991942397,\n",
       "    0.26576018,\n",
       "    0.28335154,\n",
       "    64.15161,\n",
       "    99.7145]]],\n",
       " ['Location 12 - head',\n",
       "  [2,\n",
       "   [0.5539323996866504,\n",
       "    0.6507056358557246,\n",
       "    0.303519,\n",
       "    0.4084317,\n",
       "    29.080847,\n",
       "    98.75599]]],\n",
       " ['Location 12 - head',\n",
       "  [0,\n",
       "   [0.5953268453378051,\n",
       "    0.7759053882595741,\n",
       "    0.2708888,\n",
       "    0.4680172,\n",
       "    51.666893,\n",
       "    125.97325]]]]"
      ]
     },
     "execution_count": 26,
     "metadata": {},
     "output_type": "execute_result"
    }
   ],
   "source": [
    "complete_results"
   ]
  },
  {
   "cell_type": "code",
   "execution_count": 27,
   "metadata": {},
   "outputs": [],
   "source": [
    "import pickle\n",
    "\n",
    "with open(\"complete_results.txt\", 'wb') as f:\n",
    "    pickle.dump(complete_results, f)"
   ]
  },
  {
   "cell_type": "code",
   "execution_count": 509,
   "metadata": {},
   "outputs": [
    {
     "ename": "ValueError",
     "evalue": "Length of values (2) does not match length of index (26)",
     "output_type": "error",
     "traceback": [
      "\u001b[1;31m---------------------------------------------------------------------------\u001b[0m",
      "\u001b[1;31mValueError\u001b[0m                                Traceback (most recent call last)",
      "Cell \u001b[1;32mIn[509], line 8\u001b[0m\n\u001b[0;32m      2\u001b[0m multi_index \u001b[39m=\u001b[39m pd\u001b[39m.\u001b[39mMultiIndex\u001b[39m.\u001b[39mfrom_tuples([(Location, Cluster) \u001b[39mfor\u001b[39;00m Location \u001b[39min\u001b[39;00m RUG\u001b[39m.\u001b[39mcolumns \u001b[39mfor\u001b[39;00m Cluster \u001b[39min\u001b[39;00m [\u001b[39m*\u001b[39mCounter(train_pca_features)][:\u001b[39m2\u001b[39m]],\n\u001b[0;32m      3\u001b[0m                                        names\u001b[39m=\u001b[39m[\u001b[39m'\u001b[39m\u001b[39mLocation\u001b[39m\u001b[39m'\u001b[39m,\u001b[39m'\u001b[39m\u001b[39mCluster\u001b[39m\u001b[39m'\u001b[39m])\n\u001b[0;32m      6\u001b[0m cols \u001b[39m=\u001b[39m pd\u001b[39m.\u001b[39mMultiIndex\u001b[39m.\u001b[39mfrom_tuples([(\u001b[39m'\u001b[39m\u001b[39mTrain\u001b[39m\u001b[39m'\u001b[39m, \u001b[39m'\u001b[39m\u001b[39mrmse\u001b[39m\u001b[39m'\u001b[39m), (\u001b[39m'\u001b[39m\u001b[39mTrain\u001b[39m\u001b[39m'\u001b[39m, \u001b[39m'\u001b[39m\u001b[39mmae\u001b[39m\u001b[39m'\u001b[39m), (\u001b[39m'\u001b[39m\u001b[39mTrain\u001b[39m\u001b[39m'\u001b[39m, \u001b[39m'\u001b[39m\u001b[39mmape\u001b[39m\u001b[39m'\u001b[39m), (\u001b[39m'\u001b[39m\u001b[39mTest\u001b[39m\u001b[39m'\u001b[39m, \u001b[39m'\u001b[39m\u001b[39mrmse\u001b[39m\u001b[39m'\u001b[39m), (\u001b[39m'\u001b[39m\u001b[39mTest\u001b[39m\u001b[39m'\u001b[39m, \u001b[39m'\u001b[39m\u001b[39mmae\u001b[39m\u001b[39m'\u001b[39m), (\u001b[39m'\u001b[39m\u001b[39mTest\u001b[39m\u001b[39m'\u001b[39m, \u001b[39m'\u001b[39m\u001b[39mmape\u001b[39m\u001b[39m'\u001b[39m)])\n\u001b[1;32m----> 8\u001b[0m df \u001b[39m=\u001b[39m pd\u001b[39m.\u001b[39;49mDataFrame(complete_results, columns\u001b[39m=\u001b[39;49mcols,index\u001b[39m=\u001b[39;49mmulti_index)\n\u001b[0;32m      9\u001b[0m df\n",
      "File \u001b[1;32mc:\\Users\\mjnst\\anaconda3\\envs\\thesis\\lib\\site-packages\\pandas\\core\\frame.py:790\u001b[0m, in \u001b[0;36mDataFrame.__init__\u001b[1;34m(self, data, index, columns, dtype, copy)\u001b[0m\n\u001b[0;32m    781\u001b[0m         columns \u001b[39m=\u001b[39m ensure_index(columns)\n\u001b[0;32m    782\u001b[0m     arrays, columns, index \u001b[39m=\u001b[39m nested_data_to_arrays(\n\u001b[0;32m    783\u001b[0m         \u001b[39m# error: Argument 3 to \"nested_data_to_arrays\" has incompatible\u001b[39;00m\n\u001b[0;32m    784\u001b[0m         \u001b[39m# type \"Optional[Collection[Any]]\"; expected \"Optional[Index]\"\u001b[39;00m\n\u001b[1;32m   (...)\u001b[0m\n\u001b[0;32m    788\u001b[0m         dtype,\n\u001b[0;32m    789\u001b[0m     )\n\u001b[1;32m--> 790\u001b[0m     mgr \u001b[39m=\u001b[39m arrays_to_mgr(\n\u001b[0;32m    791\u001b[0m         arrays,\n\u001b[0;32m    792\u001b[0m         columns,\n\u001b[0;32m    793\u001b[0m         index,\n\u001b[0;32m    794\u001b[0m         dtype\u001b[39m=\u001b[39;49mdtype,\n\u001b[0;32m    795\u001b[0m         typ\u001b[39m=\u001b[39;49mmanager,\n\u001b[0;32m    796\u001b[0m     )\n\u001b[0;32m    797\u001b[0m \u001b[39melse\u001b[39;00m:\n\u001b[0;32m    798\u001b[0m     mgr \u001b[39m=\u001b[39m ndarray_to_mgr(\n\u001b[0;32m    799\u001b[0m         data,\n\u001b[0;32m    800\u001b[0m         index,\n\u001b[1;32m   (...)\u001b[0m\n\u001b[0;32m    804\u001b[0m         typ\u001b[39m=\u001b[39mmanager,\n\u001b[0;32m    805\u001b[0m     )\n",
      "File \u001b[1;32mc:\\Users\\mjnst\\anaconda3\\envs\\thesis\\lib\\site-packages\\pandas\\core\\internals\\construction.py:120\u001b[0m, in \u001b[0;36marrays_to_mgr\u001b[1;34m(arrays, columns, index, dtype, verify_integrity, typ, consolidate)\u001b[0m\n\u001b[0;32m    117\u001b[0m         index \u001b[39m=\u001b[39m ensure_index(index)\n\u001b[0;32m    119\u001b[0m     \u001b[39m# don't force copy because getting jammed in an ndarray anyway\u001b[39;00m\n\u001b[1;32m--> 120\u001b[0m     arrays, refs \u001b[39m=\u001b[39m _homogenize(arrays, index, dtype)\n\u001b[0;32m    121\u001b[0m     \u001b[39m# _homogenize ensures\u001b[39;00m\n\u001b[0;32m    122\u001b[0m     \u001b[39m#  - all(len(x) == len(index) for x in arrays)\u001b[39;00m\n\u001b[0;32m    123\u001b[0m     \u001b[39m#  - all(x.ndim == 1 for x in arrays)\u001b[39;00m\n\u001b[1;32m   (...)\u001b[0m\n\u001b[0;32m    126\u001b[0m \n\u001b[0;32m    127\u001b[0m \u001b[39melse\u001b[39;00m:\n\u001b[0;32m    128\u001b[0m     index \u001b[39m=\u001b[39m ensure_index(index)\n",
      "File \u001b[1;32mc:\\Users\\mjnst\\anaconda3\\envs\\thesis\\lib\\site-packages\\pandas\\core\\internals\\construction.py:608\u001b[0m, in \u001b[0;36m_homogenize\u001b[1;34m(data, index, dtype)\u001b[0m\n\u001b[0;32m    605\u001b[0m         val \u001b[39m=\u001b[39m lib\u001b[39m.\u001b[39mfast_multiget(val, oindex\u001b[39m.\u001b[39m_values, default\u001b[39m=\u001b[39mnp\u001b[39m.\u001b[39mnan)\n\u001b[0;32m    607\u001b[0m     val \u001b[39m=\u001b[39m sanitize_array(val, index, dtype\u001b[39m=\u001b[39mdtype, copy\u001b[39m=\u001b[39m\u001b[39mFalse\u001b[39;00m)\n\u001b[1;32m--> 608\u001b[0m     com\u001b[39m.\u001b[39;49mrequire_length_match(val, index)\n\u001b[0;32m    609\u001b[0m     refs\u001b[39m.\u001b[39mappend(\u001b[39mNone\u001b[39;00m)\n\u001b[0;32m    611\u001b[0m homogenized\u001b[39m.\u001b[39mappend(val)\n",
      "File \u001b[1;32mc:\\Users\\mjnst\\anaconda3\\envs\\thesis\\lib\\site-packages\\pandas\\core\\common.py:576\u001b[0m, in \u001b[0;36mrequire_length_match\u001b[1;34m(data, index)\u001b[0m\n\u001b[0;32m    572\u001b[0m \u001b[39m\"\"\"\u001b[39;00m\n\u001b[0;32m    573\u001b[0m \u001b[39mCheck the length of data matches the length of the index.\u001b[39;00m\n\u001b[0;32m    574\u001b[0m \u001b[39m\"\"\"\u001b[39;00m\n\u001b[0;32m    575\u001b[0m \u001b[39mif\u001b[39;00m \u001b[39mlen\u001b[39m(data) \u001b[39m!=\u001b[39m \u001b[39mlen\u001b[39m(index):\n\u001b[1;32m--> 576\u001b[0m     \u001b[39mraise\u001b[39;00m \u001b[39mValueError\u001b[39;00m(\n\u001b[0;32m    577\u001b[0m         \u001b[39m\"\u001b[39m\u001b[39mLength of values \u001b[39m\u001b[39m\"\u001b[39m\n\u001b[0;32m    578\u001b[0m         \u001b[39mf\u001b[39m\u001b[39m\"\u001b[39m\u001b[39m(\u001b[39m\u001b[39m{\u001b[39;00m\u001b[39mlen\u001b[39m(data)\u001b[39m}\u001b[39;00m\u001b[39m) \u001b[39m\u001b[39m\"\u001b[39m\n\u001b[0;32m    579\u001b[0m         \u001b[39m\"\u001b[39m\u001b[39mdoes not match length of index \u001b[39m\u001b[39m\"\u001b[39m\n\u001b[0;32m    580\u001b[0m         \u001b[39mf\u001b[39m\u001b[39m\"\u001b[39m\u001b[39m(\u001b[39m\u001b[39m{\u001b[39;00m\u001b[39mlen\u001b[39m(index)\u001b[39m}\u001b[39;00m\u001b[39m)\u001b[39m\u001b[39m\"\u001b[39m\n\u001b[0;32m    581\u001b[0m     )\n",
      "\u001b[1;31mValueError\u001b[0m: Length of values (2) does not match length of index (26)"
     ]
    }
   ],
   "source": [
    "\n",
    "import pandas as pd\n",
    "multi_index = pd.MultiIndex.from_tuples([(Location, Cluster) for Location in RUG.columns for Cluster in [*Counter(train_pca_features)][:2]],\n",
    "                                       names=['Location','Cluster'])\n",
    "\n",
    "\n",
    "cols = pd.MultiIndex.from_tuples([('Train', 'rmse'), ('Train', 'mae'), ('Train', 'mape'), ('Test', 'rmse'), ('Test', 'mae'), ('Test', 'mape')])\n",
    "\n",
    "df = pd.DataFrame(complete_results, columns=cols,index=multi_index)\n",
    "df\n"
   ]
  },
  {
   "cell_type": "code",
   "execution_count": 29,
   "metadata": {},
   "outputs": [],
   "source": [
    "with open('complete_results.txt', 'rb') as f:\n",
    "    temp = pickle.load(f)"
   ]
  },
  {
   "cell_type": "code",
   "execution_count": 30,
   "metadata": {},
   "outputs": [
    {
     "data": {
      "text/plain": [
       "[['Location 1 - flow',\n",
       "  [1,\n",
       "   [0.5268215716499038,\n",
       "    0.5463612214867182,\n",
       "    0.26355627,\n",
       "    0.2817759,\n",
       "    64.06256,\n",
       "    98.609726]]],\n",
       " ['Location 1 - flow',\n",
       "  [3,\n",
       "   [0.5021563569856381,\n",
       "    0.6352111145525676,\n",
       "    0.24563965,\n",
       "    0.3960265,\n",
       "    21.834711,\n",
       "    90.095024]]],\n",
       " ['Location 1 - flow',\n",
       "  [2,\n",
       "   [0.6262935132500647,\n",
       "    0.7785258541264611,\n",
       "    0.29811725,\n",
       "    0.4877977,\n",
       "    52.022095,\n",
       "    128.21033]]],\n",
       " ['Location 2 - consumption',\n",
       "  [2,\n",
       "   [0.5249310207056396,\n",
       "    0.5441503245155949,\n",
       "    0.2593826,\n",
       "    0.27772963,\n",
       "    58.671265,\n",
       "    90.83446]]],\n",
       " ['Location 2 - consumption',\n",
       "  [1,\n",
       "   [0.5513351836915648,\n",
       "    0.6789877511067335,\n",
       "    0.25420567,\n",
       "    0.41334838,\n",
       "    35.38569,\n",
       "    85.69394]]],\n",
       " ['Location 2 - consumption',\n",
       "  [3, [1.170838254320146, nan, 1.0903722, nan, 29.467968, nan]]],\n",
       " ['Location 3 - consumption',\n",
       "  [1,\n",
       "   [0.5271949852953033,\n",
       "    0.5427170489333447,\n",
       "    0.2617731,\n",
       "    0.27891603,\n",
       "    52.49678,\n",
       "    80.89638]]],\n",
       " ['Location 3 - consumption',\n",
       "  [3,\n",
       "   [0.6093396067607374,\n",
       "    0.7964783652206937,\n",
       "    0.32435653,\n",
       "    0.5029354,\n",
       "    33.27697,\n",
       "    108.62179]]],\n",
       " ['Location 3 - consumption',\n",
       "  [2, [0.6406690976392875, nan, 0.31403244, nan, 52.48872, nan]]],\n",
       " ['Location 4 - consumption',\n",
       "  [0,\n",
       "   [0.5289042485239082,\n",
       "    0.5473272278858902,\n",
       "    0.27026716,\n",
       "    0.28496894,\n",
       "    64.23964,\n",
       "    100.078606]]],\n",
       " ['Location 4 - consumption',\n",
       "  [2,\n",
       "   [0.5903611067864742,\n",
       "    0.6489432459381831,\n",
       "    0.3214071,\n",
       "    0.4142665,\n",
       "    34.403748,\n",
       "    24.993614]]],\n",
       " ['Location 4 - consumption',\n",
       "  [3,\n",
       "   [0.6905847400579551,\n",
       "    0.871372086750524,\n",
       "    0.34074262,\n",
       "    0.60253876,\n",
       "    34.467922,\n",
       "    119.588]]],\n",
       " ['Location 5 - consumption',\n",
       "  [1,\n",
       "   [0.5284568812062853,\n",
       "    0.5476736857135346,\n",
       "    0.2698773,\n",
       "    0.2856666,\n",
       "    65.33362,\n",
       "    101.69965]]],\n",
       " ['Location 5 - consumption',\n",
       "  [3,\n",
       "   [0.6328647770066642,\n",
       "    0.8304145480546182,\n",
       "    0.3001385,\n",
       "    0.54615414,\n",
       "    30.499338,\n",
       "    123.05223]]],\n",
       " ['Location 6 - head',\n",
       "  [2,\n",
       "   [0.5268099325728055,\n",
       "    0.5460484652255799,\n",
       "    0.2612436,\n",
       "    0.27913707,\n",
       "    61.858025,\n",
       "    96.87219]]],\n",
       " ['Location 6 - head',\n",
       "  [1,\n",
       "   [0.6672661761434365,\n",
       "    0.7761954268300224,\n",
       "    0.32282147,\n",
       "    0.49933335,\n",
       "    30.045515,\n",
       "    63.518234]]],\n",
       " ['Location 7 - head',\n",
       "  [0,\n",
       "   [0.5244635649822791,\n",
       "    0.5415035698549513,\n",
       "    0.26180625,\n",
       "    0.28407785,\n",
       "    57.565704,\n",
       "    86.31705]]],\n",
       " ['Location 7 - head',\n",
       "  [1,\n",
       "   [0.5364317686813004,\n",
       "    0.6059599778632666,\n",
       "    0.29689437,\n",
       "    0.38708374,\n",
       "    41.888527,\n",
       "    85.239746]]],\n",
       " ['Location 8 - flow',\n",
       "  [0,\n",
       "   [0.5276122545481419,\n",
       "    0.5433014872048744,\n",
       "    0.2549152,\n",
       "    0.27293944,\n",
       "    48.55911,\n",
       "    75.67024]]],\n",
       " ['Location 8 - flow',\n",
       "  [2,\n",
       "   [0.6963309056122944,\n",
       "    0.9142454728813166,\n",
       "    0.37277576,\n",
       "    0.5939737,\n",
       "    36.82671,\n",
       "    125.53251]]],\n",
       " ['Location 9 - head',\n",
       "  [0,\n",
       "   [0.5267056696090521,\n",
       "    0.5419040582724243,\n",
       "    0.25900894,\n",
       "    0.2755493,\n",
       "    49.932854,\n",
       "    76.94409]]],\n",
       " ['Location 9 - head',\n",
       "  [2,\n",
       "   [0.6071736191521793,\n",
       "    0.7796450974763663,\n",
       "    0.2606582,\n",
       "    0.46737683,\n",
       "    46.843887,\n",
       "    127.27248]]],\n",
       " ['Location 10 - flow',\n",
       "  [2,\n",
       "   [0.5288134147401982,\n",
       "    0.49464970122389706,\n",
       "    0.2816943,\n",
       "    0.24635449,\n",
       "    44.0874,\n",
       "    42.062305]]],\n",
       " ['Location 10 - flow',\n",
       "  [0,\n",
       "   [0.5256926881622527,\n",
       "    0.5933803906663934,\n",
       "    0.25897673,\n",
       "    0.3420153,\n",
       "    65.76069,\n",
       "    146.21292]]],\n",
       " ['Location 10 - flow',\n",
       "  [1, [0.6872035622467461, nan, 0.41700307, nan, 67.74531, nan]]],\n",
       " ['Location 11 - head',\n",
       "  [0,\n",
       "   [0.5264101239178187,\n",
       "    0.5372518224688112,\n",
       "    0.2712721,\n",
       "    0.27569,\n",
       "    66.280624,\n",
       "    96.80102]]],\n",
       " ['Location 11 - head',\n",
       "  [3,\n",
       "   [0.5495168272896287,\n",
       "    0.63222295769997,\n",
       "    0.29837883,\n",
       "    0.39524186,\n",
       "    68.56506,\n",
       "    155.71048]]],\n",
       " ['Location 11 - head',\n",
       "  [2, [1.0123735001000984, nan, 0.65010893, nan, 114.2799, nan]]],\n",
       " ['Location 11 - flow',\n",
       "  [0,\n",
       "   [0.5259548604593643,\n",
       "    0.5404744067044148,\n",
       "    0.25938818,\n",
       "    0.27611858,\n",
       "    51.174828,\n",
       "    79.75692]]],\n",
       " ['Location 11 - flow',\n",
       "  [3,\n",
       "   [0.656906610518427,\n",
       "    0.8889268122583697,\n",
       "    0.34083298,\n",
       "    0.5763095,\n",
       "    36.478115,\n",
       "    148.08238]]],\n",
       " ['Location 12 - head',\n",
       "  [1,\n",
       "   [0.5268443705690267,\n",
       "    0.5458986991942397,\n",
       "    0.26576018,\n",
       "    0.28335154,\n",
       "    64.15161,\n",
       "    99.7145]]],\n",
       " ['Location 12 - head',\n",
       "  [2,\n",
       "   [0.5539323996866504,\n",
       "    0.6507056358557246,\n",
       "    0.303519,\n",
       "    0.4084317,\n",
       "    29.080847,\n",
       "    98.75599]]],\n",
       " ['Location 12 - head',\n",
       "  [0,\n",
       "   [0.5953268453378051,\n",
       "    0.7759053882595741,\n",
       "    0.2708888,\n",
       "    0.4680172,\n",
       "    51.666893,\n",
       "    125.97325]]]]"
      ]
     },
     "execution_count": 30,
     "metadata": {},
     "output_type": "execute_result"
    }
   ],
   "source": [
    "temp"
   ]
  },
  {
   "cell_type": "code",
   "execution_count": 31,
   "metadata": {},
   "outputs": [
    {
     "name": "stdout",
     "output_type": "stream",
     "text": [
      "['Location 1 - flow', [1, [0.5268215716499038, 0.5463612214867182, 0.26355627, 0.2817759, 64.06256, 98.609726]]]\n",
      "['Location 1 - flow', [3, [0.5021563569856381, 0.6352111145525676, 0.24563965, 0.3960265, 21.834711, 90.095024]]]\n",
      "['Location 1 - flow', [2, [0.6262935132500647, 0.7785258541264611, 0.29811725, 0.4877977, 52.022095, 128.21033]]]\n",
      "['Location 2 - consumption', [2, [0.5249310207056396, 0.5441503245155949, 0.2593826, 0.27772963, 58.671265, 90.83446]]]\n",
      "['Location 2 - consumption', [1, [0.5513351836915648, 0.6789877511067335, 0.25420567, 0.41334838, 35.38569, 85.69394]]]\n",
      "['Location 2 - consumption', [3, [1.170838254320146, nan, 1.0903722, nan, 29.467968, nan]]]\n",
      "['Location 3 - consumption', [1, [0.5271949852953033, 0.5427170489333447, 0.2617731, 0.27891603, 52.49678, 80.89638]]]\n",
      "['Location 3 - consumption', [3, [0.6093396067607374, 0.7964783652206937, 0.32435653, 0.5029354, 33.27697, 108.62179]]]\n",
      "['Location 3 - consumption', [2, [0.6406690976392875, nan, 0.31403244, nan, 52.48872, nan]]]\n",
      "['Location 4 - consumption', [0, [0.5289042485239082, 0.5473272278858902, 0.27026716, 0.28496894, 64.23964, 100.078606]]]\n",
      "['Location 4 - consumption', [2, [0.5903611067864742, 0.6489432459381831, 0.3214071, 0.4142665, 34.403748, 24.993614]]]\n",
      "['Location 4 - consumption', [3, [0.6905847400579551, 0.871372086750524, 0.34074262, 0.60253876, 34.467922, 119.588]]]\n",
      "['Location 5 - consumption', [1, [0.5284568812062853, 0.5476736857135346, 0.2698773, 0.2856666, 65.33362, 101.69965]]]\n",
      "['Location 5 - consumption', [3, [0.6328647770066642, 0.8304145480546182, 0.3001385, 0.54615414, 30.499338, 123.05223]]]\n",
      "['Location 6 - head', [2, [0.5268099325728055, 0.5460484652255799, 0.2612436, 0.27913707, 61.858025, 96.87219]]]\n",
      "['Location 6 - head', [1, [0.6672661761434365, 0.7761954268300224, 0.32282147, 0.49933335, 30.045515, 63.518234]]]\n",
      "['Location 7 - head', [0, [0.5244635649822791, 0.5415035698549513, 0.26180625, 0.28407785, 57.565704, 86.31705]]]\n",
      "['Location 7 - head', [1, [0.5364317686813004, 0.6059599778632666, 0.29689437, 0.38708374, 41.888527, 85.239746]]]\n",
      "['Location 8 - flow', [0, [0.5276122545481419, 0.5433014872048744, 0.2549152, 0.27293944, 48.55911, 75.67024]]]\n",
      "['Location 8 - flow', [2, [0.6963309056122944, 0.9142454728813166, 0.37277576, 0.5939737, 36.82671, 125.53251]]]\n",
      "['Location 9 - head', [0, [0.5267056696090521, 0.5419040582724243, 0.25900894, 0.2755493, 49.932854, 76.94409]]]\n",
      "['Location 9 - head', [2, [0.6071736191521793, 0.7796450974763663, 0.2606582, 0.46737683, 46.843887, 127.27248]]]\n",
      "['Location 10 - flow', [2, [0.5288134147401982, 0.49464970122389706, 0.2816943, 0.24635449, 44.0874, 42.062305]]]\n",
      "['Location 10 - flow', [0, [0.5256926881622527, 0.5933803906663934, 0.25897673, 0.3420153, 65.76069, 146.21292]]]\n",
      "['Location 10 - flow', [1, [0.6872035622467461, nan, 0.41700307, nan, 67.74531, nan]]]\n",
      "['Location 11 - head', [0, [0.5264101239178187, 0.5372518224688112, 0.2712721, 0.27569, 66.280624, 96.80102]]]\n",
      "['Location 11 - head', [3, [0.5495168272896287, 0.63222295769997, 0.29837883, 0.39524186, 68.56506, 155.71048]]]\n",
      "['Location 11 - head', [2, [1.0123735001000984, nan, 0.65010893, nan, 114.2799, nan]]]\n",
      "['Location 11 - flow', [0, [0.5259548604593643, 0.5404744067044148, 0.25938818, 0.27611858, 51.174828, 79.75692]]]\n",
      "['Location 11 - flow', [3, [0.656906610518427, 0.8889268122583697, 0.34083298, 0.5763095, 36.478115, 148.08238]]]\n",
      "['Location 12 - head', [1, [0.5268443705690267, 0.5458986991942397, 0.26576018, 0.28335154, 64.15161, 99.7145]]]\n",
      "['Location 12 - head', [2, [0.5539323996866504, 0.6507056358557246, 0.303519, 0.4084317, 29.080847, 98.75599]]]\n",
      "['Location 12 - head', [0, [0.5953268453378051, 0.7759053882595741, 0.2708888, 0.4680172, 51.666893, 125.97325]]]\n"
     ]
    }
   ],
   "source": [
    "for i in temp:\n",
    "    print(i)"
   ]
  },
  {
   "cell_type": "code",
   "execution_count": null,
   "metadata": {},
   "outputs": [],
   "source": []
  }
 ],
 "metadata": {
  "kernelspec": {
   "display_name": "thesis",
   "language": "python",
   "name": "python3"
  },
  "language_info": {
   "codemirror_mode": {
    "name": "ipython",
    "version": 3
   },
   "file_extension": ".py",
   "mimetype": "text/x-python",
   "name": "python",
   "nbconvert_exporter": "python",
   "pygments_lexer": "ipython3",
   "version": "3.10.10"
  },
  "orig_nbformat": 4
 },
 "nbformat": 4,
 "nbformat_minor": 2
}
