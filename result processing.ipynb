{
 "cells": [
  {
   "attachments": {},
   "cell_type": "markdown",
   "metadata": {},
   "source": [
    "# Imports"
   ]
  },
  {
   "cell_type": "code",
   "execution_count": 1,
   "metadata": {},
   "outputs": [],
   "source": [
    "import pandas as pd\n",
    "import numpy as np\n",
    "import pickle"
   ]
  },
  {
   "attachments": {},
   "cell_type": "markdown",
   "metadata": {},
   "source": [
    "# Loading results"
   ]
  },
  {
   "cell_type": "code",
   "execution_count": 2,
   "metadata": {},
   "outputs": [],
   "source": [
    "with open(r\"C:\\Users\\mjnst\\Desktop\\results\\run1\\run_1.txt\", 'rb') as f:\n",
    "    r1 = pickle.load(f)\n",
    "    \n",
    "with open(r\"C:\\Users\\mjnst\\Desktop\\results\\run2\\run_2.txt\", 'rb') as f:\n",
    "    r2 = pickle.load(f)\n",
    "    \n",
    "with open(r\"C:\\Users\\mjnst\\Desktop\\results\\run3\\run_3.txt\", 'rb') as f:\n",
    "    r3 = pickle.load(f)"
   ]
  },
  {
   "cell_type": "code",
   "execution_count": 9,
   "metadata": {},
   "outputs": [
    {
     "data": {
      "text/plain": [
       "{'Location 1 - flow': array([ 28.77244934,  28.66394107,  18.22614098,  19.3696579 ,\n",
       "        125.64778837,  80.7446537 ]),\n",
       " 'Location 2 - consumption': array([  0.61347382,   0.63454889,   0.33330154,   0.38291321,\n",
       "         78.78706305, 126.90697632]),\n",
       " 'Location 3 - consumption': array([4.73948822e-01, 5.44818382e-01, 2.89137721e-01, 3.52765882e-01,\n",
       "        4.05901998e+02, 1.89154591e+03]),\n",
       " 'Location 4 - consumption': array([ 0.45814624,  0.97126356,  0.26229765,  0.54871468,  7.80891116,\n",
       "        19.4390254 ]),\n",
       " 'Location 5 - consumption': array([2.24236895e-01, 2.98987647e-01, 1.49899303e-01, 2.23540202e-01,\n",
       "        4.34458025e+05, 1.95475833e+06]),\n",
       " 'Location 6 - head': array([0.77363958, 0.60472357, 0.40589834, 0.3380315 , 0.48599382,\n",
       "        0.39385324]),\n",
       " 'Location 7 - head': array([1.68786897, 1.72022326, 1.14741611, 1.17615469, 1.55375315,\n",
       "        1.57502165]),\n",
       " 'Location 8 - flow': array([ 28.85804428,  28.01207179,  21.5721768 ,  21.0410984 ,\n",
       "        586.15279497, 100.72527618]),\n",
       " 'Location 9 - head': array([0.19638722, 0.13418498, 0.12351561, 0.08088751, 0.2250446 ,\n",
       "        0.14912938]),\n",
       " 'Location 10 - flow': array([  23.9996487 ,   24.76659944,   14.29593325,   14.89082968,\n",
       "        2094.73254776, 2038.68543911]),\n",
       " 'Location 11 - head': array([1.41496236, 1.12883094, 0.96087379, 0.67610328, 1.79732533,\n",
       "        1.24443105]),\n",
       " 'Location 11 - flow': array([5.74529821e+00, 1.13031645e+00, 3.80063863e+00, 4.45720255e-01,\n",
       "        7.41154327e+02, 8.76810933e+02]),\n",
       " 'Location 12 - head': array([2.28930559, 1.7948675 , 1.26081978, 1.10597844, 1.98841576,\n",
       "        1.6310725 ])}"
      ]
     },
     "execution_count": 9,
     "metadata": {},
     "output_type": "execute_result"
    }
   ],
   "source": [
    "test_dict = {}\n",
    "\n",
    "def get_results(file):\n",
    "    for result in file:\n",
    "        if result[0] not in test_dict:\n",
    "            test_dict[result[0]] = [result[1][1]]\n",
    "        else:\n",
    "            test_dict[result[0]].append(result[1][1])\n",
    "\n",
    "get_results(r1)\n",
    "get_results(r2)\n",
    "get_results(r3)\n",
    "\n",
    "results = {i:np.nanmean(test_dict[i], axis=0) for i in test_dict}\n",
    "\n",
    "results\n"
   ]
  },
  {
   "cell_type": "code",
   "execution_count": 10,
   "metadata": {},
   "outputs": [
    {
     "data": {
      "text/html": [
       "<div>\n",
       "<style scoped>\n",
       "    .dataframe tbody tr th:only-of-type {\n",
       "        vertical-align: middle;\n",
       "    }\n",
       "\n",
       "    .dataframe tbody tr th {\n",
       "        vertical-align: top;\n",
       "    }\n",
       "\n",
       "    .dataframe thead tr th {\n",
       "        text-align: left;\n",
       "    }\n",
       "\n",
       "    .dataframe thead tr:last-of-type th {\n",
       "        text-align: right;\n",
       "    }\n",
       "</style>\n",
       "<table border=\"1\" class=\"dataframe\">\n",
       "  <thead>\n",
       "    <tr>\n",
       "      <th></th>\n",
       "      <th colspan=\"3\" halign=\"left\">Train</th>\n",
       "      <th colspan=\"3\" halign=\"left\">Test</th>\n",
       "    </tr>\n",
       "    <tr>\n",
       "      <th></th>\n",
       "      <th>RMSE</th>\n",
       "      <th>MAE</th>\n",
       "      <th>MAPE</th>\n",
       "      <th>RMSE</th>\n",
       "      <th>MAE</th>\n",
       "      <th>MAPE</th>\n",
       "    </tr>\n",
       "    <tr>\n",
       "      <th>Location</th>\n",
       "      <th></th>\n",
       "      <th></th>\n",
       "      <th></th>\n",
       "      <th></th>\n",
       "      <th></th>\n",
       "      <th></th>\n",
       "    </tr>\n",
       "  </thead>\n",
       "  <tbody>\n",
       "    <tr>\n",
       "      <th>Location 1 - flow</th>\n",
       "      <td>28.772</td>\n",
       "      <td>28.664</td>\n",
       "      <td>18.226</td>\n",
       "      <td>19.370</td>\n",
       "      <td>125.648</td>\n",
       "      <td>80.745</td>\n",
       "    </tr>\n",
       "    <tr>\n",
       "      <th>Location 10 - flow</th>\n",
       "      <td>24.000</td>\n",
       "      <td>24.767</td>\n",
       "      <td>14.296</td>\n",
       "      <td>14.891</td>\n",
       "      <td>2094.733</td>\n",
       "      <td>2038.685</td>\n",
       "    </tr>\n",
       "    <tr>\n",
       "      <th>Location 11 - flow</th>\n",
       "      <td>5.745</td>\n",
       "      <td>1.130</td>\n",
       "      <td>3.801</td>\n",
       "      <td>0.446</td>\n",
       "      <td>741.154</td>\n",
       "      <td>876.811</td>\n",
       "    </tr>\n",
       "    <tr>\n",
       "      <th>Location 11 - head</th>\n",
       "      <td>1.415</td>\n",
       "      <td>1.129</td>\n",
       "      <td>0.961</td>\n",
       "      <td>0.676</td>\n",
       "      <td>1.797</td>\n",
       "      <td>1.244</td>\n",
       "    </tr>\n",
       "    <tr>\n",
       "      <th>Location 12 - head</th>\n",
       "      <td>2.289</td>\n",
       "      <td>1.795</td>\n",
       "      <td>1.261</td>\n",
       "      <td>1.106</td>\n",
       "      <td>1.988</td>\n",
       "      <td>1.631</td>\n",
       "    </tr>\n",
       "    <tr>\n",
       "      <th>Location 2 - consumption</th>\n",
       "      <td>0.613</td>\n",
       "      <td>0.635</td>\n",
       "      <td>0.333</td>\n",
       "      <td>0.383</td>\n",
       "      <td>78.787</td>\n",
       "      <td>126.907</td>\n",
       "    </tr>\n",
       "    <tr>\n",
       "      <th>Location 3 - consumption</th>\n",
       "      <td>0.474</td>\n",
       "      <td>0.545</td>\n",
       "      <td>0.289</td>\n",
       "      <td>0.353</td>\n",
       "      <td>405.902</td>\n",
       "      <td>1891.546</td>\n",
       "    </tr>\n",
       "    <tr>\n",
       "      <th>Location 4 - consumption</th>\n",
       "      <td>0.458</td>\n",
       "      <td>0.971</td>\n",
       "      <td>0.262</td>\n",
       "      <td>0.549</td>\n",
       "      <td>7.809</td>\n",
       "      <td>19.439</td>\n",
       "    </tr>\n",
       "    <tr>\n",
       "      <th>Location 5 - consumption</th>\n",
       "      <td>0.224</td>\n",
       "      <td>0.299</td>\n",
       "      <td>0.150</td>\n",
       "      <td>0.224</td>\n",
       "      <td>434458.025</td>\n",
       "      <td>1954758.333</td>\n",
       "    </tr>\n",
       "    <tr>\n",
       "      <th>Location 6 - head</th>\n",
       "      <td>0.774</td>\n",
       "      <td>0.605</td>\n",
       "      <td>0.406</td>\n",
       "      <td>0.338</td>\n",
       "      <td>0.486</td>\n",
       "      <td>0.394</td>\n",
       "    </tr>\n",
       "    <tr>\n",
       "      <th>Location 7 - head</th>\n",
       "      <td>1.688</td>\n",
       "      <td>1.720</td>\n",
       "      <td>1.147</td>\n",
       "      <td>1.176</td>\n",
       "      <td>1.554</td>\n",
       "      <td>1.575</td>\n",
       "    </tr>\n",
       "    <tr>\n",
       "      <th>Location 8 - flow</th>\n",
       "      <td>28.858</td>\n",
       "      <td>28.012</td>\n",
       "      <td>21.572</td>\n",
       "      <td>21.041</td>\n",
       "      <td>586.153</td>\n",
       "      <td>100.725</td>\n",
       "    </tr>\n",
       "    <tr>\n",
       "      <th>Location 9 - head</th>\n",
       "      <td>0.196</td>\n",
       "      <td>0.134</td>\n",
       "      <td>0.124</td>\n",
       "      <td>0.081</td>\n",
       "      <td>0.225</td>\n",
       "      <td>0.149</td>\n",
       "    </tr>\n",
       "  </tbody>\n",
       "</table>\n",
       "</div>"
      ],
      "text/plain": [
       "                           Train                    Test               \n",
       "                            RMSE     MAE    MAPE    RMSE         MAE   \n",
       "Location                                                               \n",
       "Location 1 - flow         28.772  28.664  18.226  19.370     125.648  \\\n",
       "Location 10 - flow        24.000  24.767  14.296  14.891    2094.733   \n",
       "Location 11 - flow         5.745   1.130   3.801   0.446     741.154   \n",
       "Location 11 - head         1.415   1.129   0.961   0.676       1.797   \n",
       "Location 12 - head         2.289   1.795   1.261   1.106       1.988   \n",
       "Location 2 - consumption   0.613   0.635   0.333   0.383      78.787   \n",
       "Location 3 - consumption   0.474   0.545   0.289   0.353     405.902   \n",
       "Location 4 - consumption   0.458   0.971   0.262   0.549       7.809   \n",
       "Location 5 - consumption   0.224   0.299   0.150   0.224  434458.025   \n",
       "Location 6 - head          0.774   0.605   0.406   0.338       0.486   \n",
       "Location 7 - head          1.688   1.720   1.147   1.176       1.554   \n",
       "Location 8 - flow         28.858  28.012  21.572  21.041     586.153   \n",
       "Location 9 - head          0.196   0.134   0.124   0.081       0.225   \n",
       "\n",
       "                                       \n",
       "                                 MAPE  \n",
       "Location                               \n",
       "Location 1 - flow              80.745  \n",
       "Location 10 - flow           2038.685  \n",
       "Location 11 - flow            876.811  \n",
       "Location 11 - head              1.244  \n",
       "Location 12 - head              1.631  \n",
       "Location 2 - consumption      126.907  \n",
       "Location 3 - consumption     1891.546  \n",
       "Location 4 - consumption       19.439  \n",
       "Location 5 - consumption  1954758.333  \n",
       "Location 6 - head               0.394  \n",
       "Location 7 - head               1.575  \n",
       "Location 8 - flow             100.725  \n",
       "Location 9 - head               0.149  "
      ]
     },
     "execution_count": 10,
     "metadata": {},
     "output_type": "execute_result"
    }
   ],
   "source": [
    "df = pd.DataFrame(results).T\n",
    "df.columns = [\"Train RMSE\", \"Test RMSE\", \"Train MAE\", \"Test MAE\", \"Train MAPE\", \"Test MAPE\"]\n",
    "df.index.name = \"Location\"\n",
    "cols = pd.MultiIndex.from_product([['Train', 'Test'], ['RMSE', 'MAE', 'MAPE']])\n",
    "df.columns = cols\n",
    "df.sort_index(inplace=True)\n",
    "df = df.astype(float).round(3)\n",
    "df"
   ]
  },
  {
   "cell_type": "code",
   "execution_count": 6,
   "metadata": {},
   "outputs": [
    {
     "name": "stdout",
     "output_type": "stream",
     "text": [
      "\\begin{tabular}{lrrrrrr}\n",
      "\\toprule\n",
      " & \\multicolumn{3}{r}{Train} & \\multicolumn{3}{r}{Test} \\\\\n",
      " & RMSE & MAE & MAPE & RMSE & MAE & MAPE \\\\\n",
      "Location &  &  &  &  &  &  \\\\\n",
      "\\midrule\n",
      "Location 1 - flow & 28.772000 & 28.664000 & 18.226000 & 19.370000 & 125.648000 & 80.745000 \\\\\n",
      "Location 10 - flow & 24.000000 & 24.767000 & 14.296000 & 14.891000 & 2094.733000 & 2038.685000 \\\\\n",
      "Location 11 - flow & 5.745000 & 1.130000 & 3.801000 & 0.446000 & 741.154000 & 876.811000 \\\\\n",
      "Location 11 - head & 1.415000 & 1.129000 & 0.961000 & 0.676000 & 1.797000 & 1.244000 \\\\\n",
      "Location 12 - head & 2.289000 & 1.795000 & 1.261000 & 1.106000 & 1.988000 & 1.631000 \\\\\n",
      "Location 2 - consumption & 0.613000 & 0.635000 & 0.333000 & 0.383000 & 78.787000 & 126.907000 \\\\\n",
      "Location 3 - consumption & 0.474000 & 0.545000 & 0.289000 & 0.353000 & 405.902000 & 1891.546000 \\\\\n",
      "Location 4 - consumption & 0.458000 & 0.971000 & 0.262000 & 0.549000 & 7.809000 & 19.439000 \\\\\n",
      "Location 5 - consumption & 0.224000 & 0.299000 & 0.150000 & 0.224000 & 434458.025000 & 1954758.333000 \\\\\n",
      "Location 6 - head & 0.774000 & 0.605000 & 0.406000 & 0.338000 & 0.486000 & 0.394000 \\\\\n",
      "Location 7 - head & 1.688000 & 1.720000 & 1.147000 & 1.176000 & 1.554000 & 1.575000 \\\\\n",
      "Location 8 - flow & 28.858000 & 28.012000 & 21.572000 & 21.041000 & 586.153000 & 100.725000 \\\\\n",
      "Location 9 - head & 0.196000 & 0.134000 & 0.124000 & 0.081000 & 0.225000 & 0.149000 \\\\\n",
      "\\bottomrule\n",
      "\\end{tabular}\n",
      "\n"
     ]
    }
   ],
   "source": [
    "print(df.to_latex())"
   ]
  },
  {
   "attachments": {},
   "cell_type": "markdown",
   "metadata": {},
   "source": [
    "# Cluster stability"
   ]
  },
  {
   "cell_type": "code",
   "execution_count": 62,
   "metadata": {},
   "outputs": [],
   "source": [
    "import os\n",
    "from collections import Counter"
   ]
  },
  {
   "cell_type": "code",
   "execution_count": 12,
   "metadata": {},
   "outputs": [],
   "source": [
    "directory = r\"C:\\Users\\mjnst\\Desktop\\results\""
   ]
  },
  {
   "cell_type": "code",
   "execution_count": 34,
   "metadata": {},
   "outputs": [
    {
     "data": {
      "text/plain": [
       "['C:\\\\Users\\\\mjnst\\\\Desktop\\\\results\\\\run1',\n",
       " 'C:\\\\Users\\\\mjnst\\\\Desktop\\\\results\\\\run2',\n",
       " 'C:\\\\Users\\\\mjnst\\\\Desktop\\\\results\\\\run3']"
      ]
     },
     "execution_count": 34,
     "metadata": {},
     "output_type": "execute_result"
    }
   ],
   "source": [
    "[os.path.join(directory, run) for run in os.listdir(directory)]"
   ]
  },
  {
   "cell_type": "code",
   "execution_count": 56,
   "metadata": {},
   "outputs": [],
   "source": [
    "clusters = [4, 4, 3, 3, 4, 4, 4, 3, 3, 4, 3, 4, 4]"
   ]
  },
  {
   "cell_type": "code",
   "execution_count": 70,
   "metadata": {},
   "outputs": [
    {
     "name": "stdout",
     "output_type": "stream",
     "text": [
      "[2 3] [0 2] [0 2]\n",
      "[1 3] [0 1 3] [1 2 3]\n",
      "[0 2] [0 2] [0 2]\n",
      "[0 1 2] [0 2] [1]\n",
      "[0 2 3] [1 3] [0 2 3]\n",
      "[1 2] [1 2 3] [1 2]\n",
      "[0 1] [0 1] [0 1]\n",
      "[0 1] [1 2] [1 2]\n",
      "[0 3] [0 3] [0 3]\n",
      "[0 3] [1] [1]\n",
      "[1 3] [1 2 3] [1 2]\n",
      "[0 1 2] [0 1 2] [0]\n",
      "[0 2] [0 2] [1 2]\n"
     ]
    }
   ],
   "source": [
    "for cluster, ru1, ru2, ru3 in zip(clusters, os.listdir(\"C:\\\\Users\\\\mjnst\\\\Desktop\\\\results\\\\run1\"), os.listdir(\"C:\\\\Users\\\\mjnst\\\\Desktop\\\\results\\\\run2\"), os.listdir(\"C:\\\\Users\\\\mjnst\\\\Desktop\\\\results\\\\run3\")):\n",
    "    with open(\"C:\\\\Users\\\\mjnst\\\\Desktop\\\\results\\\\run1\\\\\" + ru1, 'rb') as f:\n",
    "        ru1_indices = pickle.load(f)[0]\n",
    "\n",
    "    with open(\"C:\\\\Users\\\\mjnst\\\\Desktop\\\\results\\\\run2\\\\\" + ru2, 'rb') as f:\n",
    "        ru2_indices = pickle.load(f)[0]\n",
    "    \n",
    "    with open(\"C:\\\\Users\\\\mjnst\\\\Desktop\\\\results\\\\run3\\\\\" + ru3, 'rb') as f:\n",
    "        ru3_indices = pickle.load(f)[0]\n",
    "\n",
    "    # for i in range(cluster):\n",
    "    # print(Counter(ru1_indices))\n",
    "    # print(Counter(ru2_indices))\n",
    "    # print(Counter(ru3_indices))\n",
    "\n",
    "    print(np.unique(ru3_indices), np.unique(ru2_indices), np.unique(ru1_indices))\n",
    "    # for a,b,c in zip(ru1_indices, ru2_indices, ru3_indices):\n",
    "    #     if \n",
    "    # break"
   ]
  },
  {
   "cell_type": "code",
   "execution_count": 43,
   "metadata": {},
   "outputs": [
    {
     "name": "stdout",
     "output_type": "stream",
     "text": [
      "[array([0, 0, 0, ..., 2, 2, 2], dtype=int64), array([2, 2, 2, 2, 2, 2, 0, 0, 2, 2, 2, 2, 2, 0, 2, 2, 0, 2, 2, 2, 0, 2,\n",
      "       2, 2, 2, 2, 0, 2, 2, 2, 2, 2, 2, 2, 2, 0, 2, 2, 2, 2, 2, 2, 2, 2,\n",
      "       2, 2, 2, 2, 2, 2, 2, 2, 2, 2, 2, 0, 2, 2, 2, 2, 2, 2, 2, 2, 2, 2,\n",
      "       2, 2, 2, 2, 2, 0, 2, 2, 2, 2, 2, 0, 2, 2, 2, 2, 2, 2, 2, 2, 2, 2,\n",
      "       2, 0, 2, 2, 2, 2, 2, 2, 2, 2, 2, 2, 2, 2, 2, 0, 2, 2, 2, 2, 2, 2,\n",
      "       2, 2, 2, 2, 2, 2, 2, 2, 2, 2, 2, 2, 2, 2, 2, 2, 2, 2, 2, 2, 2, 2,\n",
      "       2, 2, 2, 2, 2, 2, 0, 2, 2, 2, 2, 2, 2, 2, 2, 2, 2, 2, 2, 2, 2, 2,\n",
      "       2, 2, 2, 2, 2, 2, 2, 2, 2, 2, 2, 2, 0, 2, 2, 2, 2, 2, 2, 2, 0, 2,\n",
      "       2, 0, 2, 2, 2, 0, 2, 2, 2, 2, 2, 2, 2, 2, 2, 2, 2, 2, 2, 2, 0, 2,\n",
      "       2, 2, 2, 0, 0, 2, 2, 2, 2, 2, 2, 2, 2, 2, 2, 2, 2, 2, 2, 2, 0, 2,\n",
      "       2, 2, 0, 2, 2, 2, 2, 2, 2, 2, 2, 2, 2, 2, 2, 2, 2, 2, 2, 2, 2, 2,\n",
      "       0, 2, 2, 2, 0, 2, 2, 2, 2, 2, 2, 0, 0, 2, 0, 2, 2, 2, 2, 2, 2, 2,\n",
      "       0, 2, 2, 2, 2, 0, 2, 2, 2, 2, 2, 2, 2, 2, 2, 0, 2, 2, 2, 2, 2, 2,\n",
      "       0, 2, 2, 2, 2, 2, 2, 2, 2, 2, 2, 2, 2, 2, 2, 2, 0, 2, 2, 2, 2, 2,\n",
      "       2, 2, 2, 2, 2, 2, 2, 2, 2, 2, 2, 0, 2, 2, 2, 2, 2, 2, 2, 2, 2, 2,\n",
      "       2, 2, 2, 2, 2, 2, 2, 2, 2, 2, 2, 2, 2, 2, 2, 2, 2, 2, 2, 2, 2, 2,\n",
      "       2, 2, 2, 2, 2, 2, 2, 2, 2, 2, 2, 2, 2, 2, 2, 2, 2, 2, 2, 2, 2, 2,\n",
      "       2, 2, 2, 2, 2, 2, 2, 2, 2, 2, 2, 2, 2, 2, 2, 2, 0, 2, 2, 2, 2, 2,\n",
      "       2, 2, 2, 2, 2, 2, 2, 2, 2, 2, 2, 2, 2, 2, 2, 2, 2, 2, 2, 2, 2, 2,\n",
      "       0, 0, 0, 0, 2, 2, 2, 2], dtype=int64)]\n"
     ]
    }
   ],
   "source": [
    "with open(r\"C:\\Users\\mjnst\\Desktop\\results\\run1\\indices_run1_Location 1 - flow.txt\", 'rb') as f:\n",
    "    ru1_indices = pickle.load(f)\n",
    "print(ru1_indices)"
   ]
  },
  {
   "cell_type": "code",
   "execution_count": 20,
   "metadata": {},
   "outputs": [
    {
     "name": "stdout",
     "output_type": "stream",
     "text": [
      "indices_run1_Location 1 - flow.txt\n",
      "indices_run1_Location 10 - flow.txt\n",
      "indices_run1_Location 11 - flow.txt\n",
      "indices_run1_Location 11 - head.txt\n",
      "indices_run1_Location 12 - head.txt\n",
      "indices_run1_Location 2 - consumption.txt\n",
      "indices_run1_Location 3 - consumption.txt\n",
      "indices_run1_Location 4 - consumption.txt\n",
      "indices_run1_Location 5 - consumption.txt\n",
      "indices_run1_Location 6 - head.txt\n",
      "indices_run1_Location 7 - head.txt\n",
      "indices_run1_Location 8 - flow.txt\n",
      "indices_run1_Location 9 - head.txt\n",
      "run_2_indices_Location 1 - flow.txt\n",
      "run_2_indices_Location 10 - flow.txt\n",
      "run_2_indices_Location 11 - flow.txt\n",
      "run_2_indices_Location 11 - head.txt\n",
      "run_2_indices_Location 12 - head.txt\n",
      "run_2_indices_Location 2 - consumption.txt\n",
      "run_2_indices_Location 3 - consumption.txt\n",
      "run_2_indices_Location 4 - consumption.txt\n",
      "run_2_indices_Location 5 - consumption.txt\n",
      "run_2_indices_Location 6 - head.txt\n",
      "run_2_indices_Location 7 - head.txt\n",
      "run_2_indices_Location 8 - flow.txt\n",
      "run_2_indices_Location 9 - head.txt\n",
      "indices_run3_Location 1 - flow.txt\n",
      "indices_run3_Location 10 - flow.txt\n",
      "indices_run3_Location 11 - flow.txt\n",
      "indices_run3_Location 11 - head.txt\n",
      "indices_run3_Location 12 - head.txt\n",
      "indices_run3_Location 2 - consumption.txt\n",
      "indices_run3_Location 3 - consumption.txt\n",
      "indices_run3_Location 4 - consumption.txt\n",
      "indices_run3_Location 5 - consumption.txt\n",
      "indices_run3_Location 6 - head.txt\n",
      "indices_run3_Location 7 - head.txt\n",
      "indices_run3_Location 8 - flow.txt\n",
      "indices_run3_Location 9 - head.txt\n"
     ]
    }
   ],
   "source": [
    "base_results = ['run_1.txt', 'run_2.txt', 'run_3.txt']\n",
    "for run in os.listdir(directory):\n",
    "    f = os.path.join(directory, run)\n",
    "\n",
    "    for run_result in os.listdir(f):\n",
    "        if run_result not in base_results:\n",
    "            print(run_result) \n"
   ]
  },
  {
   "cell_type": "code",
   "execution_count": null,
   "metadata": {},
   "outputs": [],
   "source": []
  }
 ],
 "metadata": {
  "kernelspec": {
   "display_name": "thesis",
   "language": "python",
   "name": "python3"
  },
  "language_info": {
   "codemirror_mode": {
    "name": "ipython",
    "version": 3
   },
   "file_extension": ".py",
   "mimetype": "text/x-python",
   "name": "python",
   "nbconvert_exporter": "python",
   "pygments_lexer": "ipython3",
   "version": "3.10.10"
  },
  "orig_nbformat": 4
 },
 "nbformat": 4,
 "nbformat_minor": 2
}
