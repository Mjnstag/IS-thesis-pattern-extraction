{
 "cells": [
  {
   "attachments": {},
   "cell_type": "markdown",
   "metadata": {},
   "source": [
    "# Imports"
   ]
  },
  {
   "cell_type": "code",
   "execution_count": null,
   "metadata": {},
   "outputs": [],
   "source": [
    "import pandas as pd\n",
    "import numpy as np\n",
    "import pickle"
   ]
  },
  {
   "attachments": {},
   "cell_type": "markdown",
   "metadata": {},
   "source": [
    "# Loading results\n",
    "\n",
    "Open all result files created by clustering forecasting.ipynb"
   ]
  },
  {
   "cell_type": "code",
   "execution_count": null,
   "metadata": {},
   "outputs": [],
   "source": [
    "# replace ... with the path to the files containing the results\n",
    "with open(r\"...\", 'rb') as f:\n",
    "    r1 = pickle.load(f)\n",
    "    \n",
    "with open(r\"...\", 'rb') as f:\n",
    "    r2 = pickle.load(f)\n",
    "    \n",
    "with open(r\"...\", 'rb') as f:\n",
    "    r3 = pickle.load(f)"
   ]
  },
  {
   "cell_type": "code",
   "execution_count": null,
   "metadata": {},
   "outputs": [],
   "source": [
    "result_dict = {}\n",
    "\n",
    "# function to get the results from the result files\n",
    "def get_results(file):\n",
    "    # do for each location in the result file\n",
    "    for result in file:\n",
    "        # if the location is not in the result_dict as key, add it with a nested list of metrics as value\n",
    "        if result[0] not in result_dict:\n",
    "            result_dict[result[0]] = [result[1][1]]\n",
    "        else:\n",
    "            # append list of metrics to the existing nested list of metrics\n",
    "            result_dict[result[0]].append(result[1][1])\n",
    "\n",
    "# for each result file, append the results to the result_dict\n",
    "get_results(r1)\n",
    "get_results(r2)\n",
    "get_results(r3)\n",
    "\n",
    "# calculate the mean of each metric for each location\n",
    "results = {i:np.nanmean(result_dict[i], axis=0) for i in result_dict}"
   ]
  },
  {
   "cell_type": "code",
   "execution_count": null,
   "metadata": {},
   "outputs": [],
   "source": [
    "# orient the results in a dataframe\n",
    "df = pd.DataFrame(results).T\n",
    "\n",
    "# add metrics as column names\n",
    "df.columns = [\"Train RMSE\", \"Test RMSE\", \"Train MAE\", \"Test MAE\", \"Train MAPE\", \"Test MAPE\"]\n",
    "\n",
    "# set index name\n",
    "df.index.name = \"Location\"\n",
    "\n",
    "# create multiindex for the columns divideding by train and test\n",
    "cols = pd.MultiIndex.from_product([['Train', 'Test'], ['RMSE', 'MAE', 'MAPE']])\n",
    "df.columns = cols\n",
    "\n",
    "# sort the dataframe by index and round values to 3 decimals\n",
    "df.sort_index(inplace=True)\n",
    "df = df.astype(float).round(3)\n",
    "df"
   ]
  },
  {
   "cell_type": "code",
   "execution_count": null,
   "metadata": {},
   "outputs": [],
   "source": [
    "# print the results as a latex table\n",
    "print(df.to_latex())"
   ]
  }
 ],
 "metadata": {
  "kernelspec": {
   "display_name": "thesis",
   "language": "python",
   "name": "python3"
  },
  "language_info": {
   "codemirror_mode": {
    "name": "ipython",
    "version": 3
   },
   "file_extension": ".py",
   "mimetype": "text/x-python",
   "name": "python",
   "nbconvert_exporter": "python",
   "pygments_lexer": "ipython3",
   "version": "3.10.10"
  },
  "orig_nbformat": 4
 },
 "nbformat": 4,
 "nbformat_minor": 2
}
