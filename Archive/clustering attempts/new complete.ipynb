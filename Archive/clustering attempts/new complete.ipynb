{
 "cells": [
  {
   "attachments": {},
   "cell_type": "markdown",
   "metadata": {},
   "source": [
    "# Imports"
   ]
  },
  {
   "cell_type": "code",
   "execution_count": 35,
   "metadata": {},
   "outputs": [],
   "source": [
    "import pandas as pd\n",
    "from pathlib import Path\n",
    "from sklearn.decomposition import PCA\n",
    "import seaborn as sns\n",
    "import numpy as np\n",
    "import matplotlib.pyplot as plt \n",
    "from sklearn.preprocessing import StandardScaler\n",
    "import datetime\n",
    "\n",
    "import tensorflow as tf\n",
    "from tensorflow.keras.models import Sequential\n",
    "from tensorflow.keras.layers import Dense\n",
    "from tensorflow.keras.layers import LSTM\n",
    "\n",
    "import os, math\n",
    "\n",
    "import pandas as pd\n",
    "import matplotlib.pyplot as plt\n",
    "import numpy as np\n",
    "# Preprocessing\n",
    "from sklearn.preprocessing import MinMaxScaler\n",
    "# Algorithms\n",
    "from tslearn.barycenters import dtw_barycenter_averaging\n",
    "from tslearn.clustering import TimeSeriesKMeans, KernelKMeans, silhouette_score\n",
    "from sklearn.cluster import KMeans\n",
    "\n",
    "from sklearn.metrics import mean_squared_error\n",
    "from collections import Counter"
   ]
  },
  {
   "attachments": {},
   "cell_type": "markdown",
   "metadata": {},
   "source": [
    "# Set seed for reproducibility"
   ]
  },
  {
   "cell_type": "code",
   "execution_count": 36,
   "metadata": {},
   "outputs": [],
   "source": [
    "np.random.seed(0)\n",
    "tf.random.set_seed(0)"
   ]
  },
  {
   "attachments": {},
   "cell_type": "markdown",
   "metadata": {},
   "source": [
    "# Tensorflow prepereation"
   ]
  },
  {
   "cell_type": "code",
   "execution_count": 3,
   "metadata": {},
   "outputs": [],
   "source": [
    "gpus = tf.config.experimental.list_physical_devices('GPU')\n",
    "for gpu in gpus:\n",
    "    tf.config.experimental.set_memory_growth(gpu, True)"
   ]
  },
  {
   "cell_type": "code",
   "execution_count": null,
   "metadata": {},
   "outputs": [],
   "source": []
  },
  {
   "attachments": {},
   "cell_type": "markdown",
   "metadata": {},
   "source": [
    "# Loading Data"
   ]
  },
  {
   "cell_type": "code",
   "execution_count": 37,
   "metadata": {},
   "outputs": [
    {
     "name": "stdout",
     "output_type": "stream",
     "text": [
      "{'hanoi_scenario_dir': 'C:\\\\Users\\\\mjnst\\\\Desktop\\\\Thesis\\\\Hanoi_CMH\\\\Scenario-1', 'RUG_dir': 'C:\\\\Users\\\\mjnst\\\\Desktop\\\\Thesis\\\\RUG_data_5years', 'RUG_raw_csv': 'C:\\\\Users\\\\mjnst\\\\Desktop\\\\Thesis\\\\rug_csv.csv', 'RUG_timeseries': 'C:\\\\Users\\\\mjnst\\\\Desktop\\\\Thesis\\\\rug_timeseries.pkl', 'RUG_obfuscated': 'C:\\\\Users\\\\mjnst\\\\Desktop\\\\Thesis\\\\obfuscated_data.pkl'}\n"
     ]
    }
   ],
   "source": [
    "with open(\"..\\..\\options.txt\", 'r') as f:\n",
    "    options = f.readlines()\n",
    "    options = {option.split(\"=\")[0]: option.split(\"=\")[1].strip() for option in options}\n",
    "print(options)"
   ]
  },
  {
   "cell_type": "code",
   "execution_count": 18,
   "metadata": {},
   "outputs": [],
   "source": [
    "RUG = pd.read_pickle(options['RUG_obfuscated'])"
   ]
  },
  {
   "cell_type": "code",
   "execution_count": 19,
   "metadata": {},
   "outputs": [],
   "source": [
    "RUG.interpolate(method='linear', inplace=True, limit=20)"
   ]
  },
  {
   "cell_type": "code",
   "execution_count": 38,
   "metadata": {},
   "outputs": [],
   "source": [
    "# RUG"
   ]
  },
  {
   "cell_type": "code",
   "execution_count": 21,
   "metadata": {},
   "outputs": [],
   "source": [
    "groups = RUG['Location 2 - consumption'].groupby(pd.Grouper(freq='D'))\n",
    "\n",
    "# get the calender date of the groups\n",
    "days = list(groups.first().index.strftime('%Y:%m:%d'))\n",
    "\n",
    "gro = [groups.get_group(x).reset_index(drop=True) for x in groups.groups]\n",
    "\n",
    "temp = pd.concat(gro, axis=1, keys=days)\n",
    "\n",
    "temp.index = pd.date_range(\"00:00\", \"23:59\", freq=\"1min\").strftime('%H:%M')\n",
    "\n",
    "# drop all columns of temp dataframe which contain nan values\n",
    "temp.dropna(axis=1, how='any', inplace=True)"
   ]
  },
  {
   "cell_type": "code",
   "execution_count": 22,
   "metadata": {},
   "outputs": [],
   "source": [
    "temp = temp[::10]"
   ]
  },
  {
   "cell_type": "code",
   "execution_count": 39,
   "metadata": {},
   "outputs": [],
   "source": [
    "temp = temp.T\n",
    "# temp"
   ]
  },
  {
   "cell_type": "code",
   "execution_count": 26,
   "metadata": {},
   "outputs": [],
   "source": [
    "#split the data into train and test set based on the columns\n",
    "# train_percentage = 0.8\n",
    "# train_size = int(len(temp.columns) * train_percentage)\n",
    "# train = temp.iloc[:, :train_size]\n",
    "# test = temp.iloc[:, train_size:]"
   ]
  },
  {
   "cell_type": "code",
   "execution_count": 27,
   "metadata": {},
   "outputs": [],
   "source": [
    "train_percentage = 0.8\n",
    "train_size = int(len(temp.index) * train_percentage)\n",
    "train = temp[:train_size]\n",
    "test = temp[train_size:]"
   ]
  },
  {
   "cell_type": "code",
   "execution_count": 28,
   "metadata": {},
   "outputs": [],
   "source": [
    "# scaler = MinMaxScaler(feature_range=(0, 1))\n",
    "\n",
    "# scaled_list_train = [train[col] for col in train]\n",
    "# scaled_list_train = scaler.fit_transform(scaled_list_train)\n",
    "\n",
    "# scaled_list_test = [test[col] for col in test]\n",
    "# scaled_list_test = scaler.transform(scaled_list_test)"
   ]
  },
  {
   "cell_type": "code",
   "execution_count": 29,
   "metadata": {},
   "outputs": [],
   "source": [
    "scaler = StandardScaler()\n",
    "scaled_list_train = scaler.fit_transform(train)\n",
    "scaled_list_test = scaler.transform(test)"
   ]
  },
  {
   "cell_type": "code",
   "execution_count": 30,
   "metadata": {},
   "outputs": [
    {
     "name": "stdout",
     "output_type": "stream",
     "text": [
      "Shape before PCA:  (1702, 144)\n",
      "Shape after PCA:  (1702, 9)\n"
     ]
    },
    {
     "data": {
      "image/png": "[encoded data removed]",
      "text/plain": [
       "<Figure size 640x480 with 1 Axes>"
      ]
     },
     "metadata": {},
     "output_type": "display_data"
    }
   ],
   "source": [
    "sns.set()\n",
    " \n",
    "# Reduce from 4 to 3 features with PCA\n",
    "# pca = PCA(n_components=cluster_count)\n",
    "pca = PCA(n_components=0.85, svd_solver='full')\n",
    " \n",
    "# Fit and transform data\n",
    "pca_features = pca.fit_transform(scaled_list_train)\n",
    " \n",
    "\n",
    "print('Shape before PCA: ', scaled_list_train.shape)\n",
    "print('Shape after PCA: ', pca_features.shape)\n",
    "\n",
    "pca_df = pd.DataFrame(\n",
    "    data=pca_features)\n",
    "\n",
    "# Bar plot of explained_variance  \n",
    "plt.bar(\n",
    "    range(1,len(pca.explained_variance_)+1),\n",
    "    pca.explained_variance_\n",
    "    )\n",
    " \n",
    " \n",
    "plt.xlabel('PCA Feature')\n",
    "plt.ylabel('Explained variance')\n",
    "plt.title('Feature Explained Variance')\n",
    "plt.show()"
   ]
  },
  {
   "cell_type": "code",
   "execution_count": 31,
   "metadata": {},
   "outputs": [],
   "source": [
    "# wcss = []\n",
    "# silhouette_scores = []\n",
    "\n",
    "# for i in range(1,10):\n",
    "#     print(i)\n",
    "#     kmeans_pca = TimeSeriesKMeans(n_clusters=i, metric=\"dtw\", n_jobs=-1).fit(pca_features)\n",
    "#     wcss.append(kmeans_pca.inertia_)\n",
    "#     try:\n",
    "#         silhouette_scores.append(silhouette_score(pca_features, kmeans_pca.labels_, n_jobs=-1))\n",
    "#     except:\n",
    "#         silhouette_scores.append(0)"
   ]
  },
  {
   "cell_type": "code",
   "execution_count": 32,
   "metadata": {},
   "outputs": [],
   "source": [
    "# plt.figure(figsize=(15,5))\n",
    "# plt.subplot(1,2,1)\n",
    "# plt.plot(range(1,10), wcss, marker='o')\n",
    "# plt.xlabel('Number of clusters')\n",
    "# plt.ylabel('WCSS')\n",
    "# plt.title(f'wcss score')\n",
    "# plt.subplot(1,2,2)\n",
    "# plt.plot(range(1,10), silhouette_scores, marker='o')\n",
    "# plt.xlabel('Number of clusters')\n",
    "# plt.ylabel('Silhouette score')\n",
    "# plt.title(f'silhouette score ')\n",
    "# plt.show()"
   ]
  },
  {
   "cell_type": "code",
   "execution_count": 33,
   "metadata": {},
   "outputs": [
    {
     "name": "stderr",
     "output_type": "stream",
     "text": [
      "c:\\Users\\mjnst\\anaconda3\\envs\\thesis\\lib\\site-packages\\tslearn\\utils\\utils.py:88: UserWarning: 2-Dimensional data passed. Assuming these are 1702 1-dimensional timeseries\n",
      "  warnings.warn('2-Dimensional data passed. Assuming these are '\n",
      "c:\\Users\\mjnst\\anaconda3\\envs\\thesis\\lib\\site-packages\\tslearn\\utils\\utils.py:88: UserWarning: 2-Dimensional data passed. Assuming these are 426 1-dimensional timeseries\n",
      "  warnings.warn('2-Dimensional data passed. Assuming these are '\n"
     ]
    }
   ],
   "source": [
    "kmeans_pca = TimeSeriesKMeans(n_clusters=3, metric=\"dtw\", n_jobs=-1).fit(pca_features)\n",
    "train_pca_features = kmeans_pca.predict(scaled_list_train)\n",
    "test_pca_features = kmeans_pca.predict(scaled_list_test)\n"
   ]
  },
  {
   "cell_type": "code",
   "execution_count": 34,
   "metadata": {},
   "outputs": [
    {
     "data": {
      "text/plain": [
       "{2: 1603, 0: 92, 1: 7}"
      ]
     },
     "execution_count": 34,
     "metadata": {},
     "output_type": "execute_result"
    }
   ],
   "source": [
    "counts = dict(Counter(train_pca_features))\n",
    "counts"
   ]
  },
  {
   "cell_type": "code",
   "execution_count": 196,
   "metadata": {},
   "outputs": [],
   "source": [
    "n_future = 1\n",
    "n_past = 10\n",
    "\n",
    "trainX = []\n",
    "trainY = []\n",
    "for i in range(n_past, len(scaled_list_train)-n_future+1):\n",
    "    trainX.append(scaled_list_train[i - n_past:i, 0:scaled_list_train.shape[1]])\n",
    "    trainY.append(scaled_list_train[i + n_future - 1:i + n_future, 0:scaled_list_train.shape[1]])\n",
    "\n",
    "testX = []\n",
    "testY = []\n",
    "for i in range(n_past, len(scaled_list_test)-n_future+1):\n",
    "    testX.append(scaled_list_test[i - n_past:i, 0:scaled_list_test.shape[1]])\n",
    "    testY.append(scaled_list_test[i + n_future - 1:i + n_future, 0:scaled_list_test.shape[1]])"
   ]
  },
  {
   "cell_type": "code",
   "execution_count": 198,
   "metadata": {},
   "outputs": [],
   "source": [
    "trainX, trainY = np.array(trainX), np.array(trainY)\n",
    "testX, testY = np.array(testX), np.array(testY)"
   ]
  },
  {
   "cell_type": "code",
   "execution_count": 184,
   "metadata": {},
   "outputs": [
    {
     "data": {
      "text/plain": [
       "((1692, 10, 144), (1692, 1, 144))"
      ]
     },
     "execution_count": 184,
     "metadata": {},
     "output_type": "execute_result"
    }
   ],
   "source": [
    "trainX.shape, trainY.shape"
   ]
  },
  {
   "cell_type": "code",
   "execution_count": 199,
   "metadata": {},
   "outputs": [
    {
     "data": {
      "text/plain": [
       "(144, 1608)"
      ]
     },
     "execution_count": 199,
     "metadata": {},
     "output_type": "execute_result"
    }
   ],
   "source": [
    "scaled_list_train[np.where(train_pca_features == 0)].T.shape"
   ]
  },
  {
   "cell_type": "code",
   "execution_count": 200,
   "metadata": {},
   "outputs": [
    {
     "data": {
      "text/plain": [
       "(144, 1608)"
      ]
     },
     "execution_count": 200,
     "metadata": {},
     "output_type": "execute_result"
    }
   ],
   "source": [
    "# select all columns from scaled_list_train which are in cluster 0 using numpy\n",
    "cluster0 = scaled_list_train[np.where(train_pca_features == 0)].T\n",
    "cluster0.shape"
   ]
  },
  {
   "cell_type": "code",
   "execution_count": 201,
   "metadata": {},
   "outputs": [
    {
     "name": "stdout",
     "output_type": "stream",
     "text": [
      "Epoch 1/100\n",
      "53/53 - 2s - loss: 1.0362 - mse: 1.0371 - 2s/epoch - 47ms/step\n",
      "Epoch 2/100\n",
      "53/53 - 0s - loss: 1.0139 - mse: 1.0134 - 432ms/epoch - 8ms/step\n",
      "Epoch 3/100\n",
      "53/53 - 1s - loss: 1.0125 - mse: 1.0124 - 542ms/epoch - 10ms/step\n",
      "Epoch 4/100\n",
      "53/53 - 0s - loss: 1.0110 - mse: 1.0114 - 465ms/epoch - 9ms/step\n",
      "Epoch 5/100\n",
      "53/53 - 0s - loss: 1.0089 - mse: 1.0097 - 449ms/epoch - 8ms/step\n",
      "Epoch 6/100\n",
      "53/53 - 0s - loss: 1.0098 - mse: 1.0077 - 401ms/epoch - 8ms/step\n",
      "Epoch 7/100\n",
      "53/53 - 0s - loss: 1.0082 - mse: 1.0090 - 426ms/epoch - 8ms/step\n",
      "Epoch 8/100\n",
      "53/53 - 0s - loss: 1.0101 - mse: 1.0084 - 406ms/epoch - 8ms/step\n",
      "Epoch 9/100\n",
      "53/53 - 0s - loss: 1.0070 - mse: 1.0072 - 373ms/epoch - 7ms/step\n",
      "Epoch 10/100\n",
      "53/53 - 0s - loss: 1.0082 - mse: 1.0096 - 382ms/epoch - 7ms/step\n",
      "Epoch 11/100\n",
      "53/53 - 0s - loss: 1.0084 - mse: 1.0090 - 415ms/epoch - 8ms/step\n",
      "Epoch 12/100\n",
      "53/53 - 0s - loss: 1.0082 - mse: 1.0087 - 405ms/epoch - 8ms/step\n"
     ]
    },
    {
     "data": {
      "text/plain": [
       "<keras.callbacks.History at 0x20c30a2f790>"
      ]
     },
     "execution_count": 201,
     "metadata": {},
     "output_type": "execute_result"
    }
   ],
   "source": [
    "callback = tf.keras.callbacks.EarlyStopping(monitor='loss', patience=3)\n",
    "look_back = n_past\n",
    "\n",
    "# create and fit the LSTM network\n",
    "model = Sequential()\n",
    "model.add(LSTM(32, input_shape=(trainX.shape[1], trainX.shape[2])))\n",
    "model.add(Dense(1))\n",
    "model.compile(loss='mean_squared_error', optimizer='adam', metrics=['mse'])\n",
    "model.fit(trainX, trainY, epochs=100, verbose=2, callbacks=[callback], batch_size=32)"
   ]
  },
  {
   "cell_type": "code",
   "execution_count": 202,
   "metadata": {},
   "outputs": [
    {
     "name": "stdout",
     "output_type": "stream",
     "text": [
      "53/53 [==============================] - 1s 8ms/step\n",
      "13/13 [==============================] - 0s 5ms/step\n"
     ]
    }
   ],
   "source": [
    "trainPredict = model.predict(trainX)\n",
    "testPredict = model.predict(testX)"
   ]
  },
  {
   "cell_type": "code",
   "execution_count": 219,
   "metadata": {},
   "outputs": [
    {
     "data": {
      "text/plain": [
       "array([[-0.07295735],\n",
       "       [ 0.04306912],\n",
       "       [ 0.05070404],\n",
       "       [-0.00233869],\n",
       "       [ 0.10380144],\n",
       "       [ 0.07419956],\n",
       "       [-0.10205051],\n",
       "       [-0.26055136],\n",
       "       [-0.2352556 ],\n",
       "       [-0.12087405],\n",
       "       [-0.03572369],\n",
       "       [-0.15461157],\n",
       "       [-0.06651999],\n",
       "       [ 0.05718603],\n",
       "       [-0.1178814 ],\n",
       "       [-0.00726658],\n",
       "       [-0.01738876],\n",
       "       [-0.33817348],\n",
       "       [-0.34513032],\n",
       "       [-0.22466101],\n",
       "       [-0.15552896],\n",
       "       [-0.08710274],\n",
       "       [-0.05580788],\n",
       "       [ 0.04208854],\n",
       "       [ 0.11591195],\n",
       "       [-0.03830712],\n",
       "       [-0.12775174],\n",
       "       [ 0.00596165],\n",
       "       [ 0.06069136],\n",
       "       [-0.02735829],\n",
       "       [-0.2509683 ],\n",
       "       [-0.19052094],\n",
       "       [ 0.06985543],\n",
       "       [ 0.03881413],\n",
       "       [ 0.08359698],\n",
       "       [-0.16564776],\n",
       "       [-0.090491  ],\n",
       "       [ 0.09676517],\n",
       "       [-0.02303448],\n",
       "       [ 0.19273008],\n",
       "       [ 0.24928331],\n",
       "       [ 0.16057149],\n",
       "       [-0.02309717],\n",
       "       [ 0.00116452],\n",
       "       [-0.31871098],\n",
       "       [-0.3502948 ],\n",
       "       [-0.20970203],\n",
       "       [-0.1501368 ],\n",
       "       [-0.21588601],\n",
       "       [-0.09415551],\n",
       "       [-0.1568853 ],\n",
       "       [-0.04529531],\n",
       "       [ 0.05312174],\n",
       "       [-0.04503341],\n",
       "       [ 0.12706858],\n",
       "       [ 0.14247096],\n",
       "       [ 0.01254638],\n",
       "       [-0.12917453],\n",
       "       [-0.22285059],\n",
       "       [-0.05617167],\n",
       "       [-0.09540128],\n",
       "       [ 0.21992627],\n",
       "       [ 0.17424682],\n",
       "       [ 0.00834984],\n",
       "       [-0.15333724],\n",
       "       [-0.13115425],\n",
       "       [-0.07478192],\n",
       "       [-0.06295972],\n",
       "       [ 0.13143416],\n",
       "       [ 0.09525534],\n",
       "       [ 0.25579226],\n",
       "       [-0.00346459],\n",
       "       [ 0.04811906],\n",
       "       [ 0.04038271],\n",
       "       [ 0.03355385],\n",
       "       [ 0.07721243],\n",
       "       [ 0.04452435],\n",
       "       [ 0.00881644],\n",
       "       [-0.07568037],\n",
       "       [ 0.00637707],\n",
       "       [-0.01016592],\n",
       "       [-0.01222009],\n",
       "       [ 0.12526476],\n",
       "       [ 0.04794767],\n",
       "       [ 0.14307265],\n",
       "       [ 0.02816893],\n",
       "       [ 0.02327253],\n",
       "       [ 0.00675679],\n",
       "       [ 0.26184818],\n",
       "       [-0.13390124],\n",
       "       [-0.0409053 ],\n",
       "       [-0.02319817],\n",
       "       [ 0.04271811],\n",
       "       [ 0.03796732],\n",
       "       [-0.02091526],\n",
       "       [ 0.03028187],\n",
       "       [ 0.05930399],\n",
       "       [ 0.01557625],\n",
       "       [ 0.02909985],\n",
       "       [ 0.04345005],\n",
       "       [-0.00258917],\n",
       "       [ 0.03859455],\n",
       "       [-0.00113516],\n",
       "       [-0.1676754 ],\n",
       "       [-0.10995644],\n",
       "       [-0.02625381],\n",
       "       [ 0.02960469],\n",
       "       [-0.03359959],\n",
       "       [ 0.02276742],\n",
       "       [-0.0181676 ],\n",
       "       [-0.04256549],\n",
       "       [ 0.02539633],\n",
       "       [ 0.02347686],\n",
       "       [-0.0158636 ],\n",
       "       [ 0.09354319],\n",
       "       [ 0.09719939],\n",
       "       [ 0.04595172],\n",
       "       [ 0.02647563],\n",
       "       [ 0.10126667],\n",
       "       [ 0.12589675],\n",
       "       [ 0.0861608 ],\n",
       "       [ 0.12401763],\n",
       "       [ 0.08459634],\n",
       "       [ 0.08022592],\n",
       "       [ 0.13258961],\n",
       "       [ 0.1265638 ],\n",
       "       [ 0.07543599],\n",
       "       [ 0.08895217],\n",
       "       [ 0.1301043 ],\n",
       "       [ 0.12065138],\n",
       "       [ 0.12942931],\n",
       "       [ 0.08059271],\n",
       "       [ 0.08691222],\n",
       "       [ 0.03316271],\n",
       "       [ 0.120834  ],\n",
       "       [ 0.06380498],\n",
       "       [ 0.16258278],\n",
       "       [ 0.07795293],\n",
       "       [ 0.09127327],\n",
       "       [ 0.0277928 ],\n",
       "       [ 0.11761605],\n",
       "       [ 0.01896081],\n",
       "       [-0.08147692],\n",
       "       [ 0.00749397],\n",
       "       [ 0.065158  ],\n",
       "       [ 0.16037156],\n",
       "       [ 0.08296509],\n",
       "       [ 0.22369716],\n",
       "       [ 0.09906676],\n",
       "       [ 0.09939917],\n",
       "       [ 0.20678794],\n",
       "       [ 0.08235421],\n",
       "       [ 0.044164  ],\n",
       "       [ 0.14307743],\n",
       "       [-0.11131213],\n",
       "       [ 0.18270826],\n",
       "       [ 0.01331752],\n",
       "       [ 0.1340446 ],\n",
       "       [ 0.08823875],\n",
       "       [ 0.13805239],\n",
       "       [ 0.01763322],\n",
       "       [ 0.13536282],\n",
       "       [ 0.03459534],\n",
       "       [ 0.14171508],\n",
       "       [-0.02697156],\n",
       "       [ 0.0540383 ],\n",
       "       [ 0.12612867],\n",
       "       [ 0.08880401],\n",
       "       [ 0.16392854],\n",
       "       [-0.01234115],\n",
       "       [-0.1501587 ],\n",
       "       [ 0.0899056 ],\n",
       "       [ 0.13202688],\n",
       "       [-0.01930025],\n",
       "       [ 0.0515108 ],\n",
       "       [-0.08653589],\n",
       "       [-0.11733987],\n",
       "       [-0.25481278],\n",
       "       [-0.1051962 ],\n",
       "       [-0.01758936],\n",
       "       [-0.04226525],\n",
       "       [ 0.05420982],\n",
       "       [-0.01702758],\n",
       "       [-0.01491597],\n",
       "       [-0.05249662],\n",
       "       [-0.01488757],\n",
       "       [-0.07097724],\n",
       "       [ 0.04139444],\n",
       "       [ 0.03974792],\n",
       "       [-0.0109751 ],\n",
       "       [-0.07061484],\n",
       "       [-0.10058022],\n",
       "       [-0.1316336 ],\n",
       "       [-0.13578247],\n",
       "       [-0.1837003 ],\n",
       "       [-0.21357971],\n",
       "       [-0.19770107],\n",
       "       [-0.20933512],\n",
       "       [-0.20933512],\n",
       "       [-0.20933512],\n",
       "       [-0.20933512],\n",
       "       [-0.20933512],\n",
       "       [-0.20933512],\n",
       "       [-0.20933512],\n",
       "       [-0.20933512],\n",
       "       [-0.20933512],\n",
       "       [-0.20933512],\n",
       "       [-0.20933512],\n",
       "       [-0.20933512],\n",
       "       [-0.20933512],\n",
       "       [-0.20933512],\n",
       "       [-0.20933512],\n",
       "       [-0.20933512],\n",
       "       [-0.20933512],\n",
       "       [-0.20933512],\n",
       "       [-0.20933512],\n",
       "       [-0.20933512],\n",
       "       [-0.20933512],\n",
       "       [-0.20933512],\n",
       "       [-0.20933512],\n",
       "       [-0.20933512],\n",
       "       [-0.20933512],\n",
       "       [-0.20933512],\n",
       "       [-0.20933512],\n",
       "       [-0.20933512],\n",
       "       [-0.20933512],\n",
       "       [-0.20933512],\n",
       "       [-0.20933512],\n",
       "       [-0.20933512],\n",
       "       [-0.20933512],\n",
       "       [-0.20933512],\n",
       "       [-0.20933512],\n",
       "       [-0.20933512],\n",
       "       [-0.20933512],\n",
       "       [-0.20933512],\n",
       "       [-0.20933512],\n",
       "       [-0.20933512],\n",
       "       [-0.20933512],\n",
       "       [-0.20933512],\n",
       "       [-0.20933512],\n",
       "       [-0.20933512],\n",
       "       [-0.20933512],\n",
       "       [-0.20933512],\n",
       "       [-0.20933512],\n",
       "       [-0.20933512],\n",
       "       [-0.20933512],\n",
       "       [-0.20933512],\n",
       "       [-0.20933512],\n",
       "       [-0.20933512],\n",
       "       [-0.20933512],\n",
       "       [-0.20933512],\n",
       "       [-0.20933512],\n",
       "       [-0.20933512],\n",
       "       [-0.20933512],\n",
       "       [-0.20933512],\n",
       "       [-0.20933512],\n",
       "       [-0.20933512],\n",
       "       [-0.20933512],\n",
       "       [-0.20933512],\n",
       "       [-0.20933512],\n",
       "       [-0.20933512],\n",
       "       [-0.20933512],\n",
       "       [-0.20933512],\n",
       "       [-0.20933512],\n",
       "       [-0.20933512],\n",
       "       [-0.20933512],\n",
       "       [-0.20933512],\n",
       "       [-0.20933512],\n",
       "       [-0.20933512],\n",
       "       [-0.20933512],\n",
       "       [-0.20933512],\n",
       "       [-0.20933512],\n",
       "       [-0.20933512],\n",
       "       [-0.20933512],\n",
       "       [-0.20933512],\n",
       "       [-0.20933512],\n",
       "       [-0.20933512],\n",
       "       [-0.20933512],\n",
       "       [-0.20933512],\n",
       "       [-0.20933512],\n",
       "       [-0.20933512],\n",
       "       [-0.20933512],\n",
       "       [-0.20933512],\n",
       "       [-0.20933512],\n",
       "       [-0.20933512],\n",
       "       [-0.20933512],\n",
       "       [-0.20933512],\n",
       "       [-0.20933512],\n",
       "       [-0.20933512],\n",
       "       [-0.20933512],\n",
       "       [-0.20933512],\n",
       "       [-0.20933512],\n",
       "       [-0.20933512],\n",
       "       [-0.20933512],\n",
       "       [-0.20933512],\n",
       "       [-0.20933512],\n",
       "       [-0.20933512],\n",
       "       [-0.20933512],\n",
       "       [-0.20933512],\n",
       "       [-0.20933512],\n",
       "       [-0.20933512],\n",
       "       [-0.20933512],\n",
       "       [-0.20933512],\n",
       "       [-0.20933512],\n",
       "       [-0.20933512],\n",
       "       [-0.20933512],\n",
       "       [-0.20933512],\n",
       "       [-0.20933512],\n",
       "       [-0.20933512],\n",
       "       [-0.20933512],\n",
       "       [-0.20933512],\n",
       "       [-0.20933512],\n",
       "       [-0.20933512],\n",
       "       [-0.20933512],\n",
       "       [-0.20933512],\n",
       "       [-0.20933512],\n",
       "       [-0.20933512],\n",
       "       [-0.20933512],\n",
       "       [-0.20933512],\n",
       "       [-0.20933512],\n",
       "       [-0.20933512],\n",
       "       [-0.20933512],\n",
       "       [-0.20933512],\n",
       "       [-0.20933512],\n",
       "       [-0.20933512],\n",
       "       [-0.20933512],\n",
       "       [-0.20933512],\n",
       "       [-0.20933512],\n",
       "       [-0.20933512],\n",
       "       [-0.20933512],\n",
       "       [-0.20933512],\n",
       "       [-0.20933512],\n",
       "       [-0.20933512],\n",
       "       [-0.20933512],\n",
       "       [-0.20933512],\n",
       "       [-0.20933512],\n",
       "       [-0.20933512],\n",
       "       [-0.20933512],\n",
       "       [-0.20933512],\n",
       "       [-0.20933512],\n",
       "       [-0.20933512],\n",
       "       [-0.20933512],\n",
       "       [-0.20933512],\n",
       "       [-0.20933512],\n",
       "       [-0.20933512],\n",
       "       [-0.20933512],\n",
       "       [-0.14856824],\n",
       "       [ 0.04008704],\n",
       "       [ 0.229998  ],\n",
       "       [ 0.20088312],\n",
       "       [ 0.19030333],\n",
       "       [ 0.05644996],\n",
       "       [ 0.2620086 ],\n",
       "       [ 0.09279677],\n",
       "       [-0.01527009],\n",
       "       [-0.05799457],\n",
       "       [ 0.03250455],\n",
       "       [ 0.24929343],\n",
       "       [ 0.01786402],\n",
       "       [ 0.1133187 ],\n",
       "       [ 0.08995747],\n",
       "       [ 0.21980642],\n",
       "       [ 0.32878837],\n",
       "       [ 0.2864177 ],\n",
       "       [ 0.19429755],\n",
       "       [ 0.11437248],\n",
       "       [ 0.31501526],\n",
       "       [ 0.17330453],\n",
       "       [ 0.29038364],\n",
       "       [ 0.23161171],\n",
       "       [ 0.17229813],\n",
       "       [ 0.11195184],\n",
       "       [ 0.18357882],\n",
       "       [ 0.21148765],\n",
       "       [ 0.02718018],\n",
       "       [-0.01657031],\n",
       "       [-0.06580722],\n",
       "       [ 0.06211403],\n",
       "       [ 0.1944346 ],\n",
       "       [ 0.05819762],\n",
       "       [ 0.27236313],\n",
       "       [ 0.1214927 ],\n",
       "       [ 0.10827296],\n",
       "       [-0.01150277],\n",
       "       [ 0.39090267],\n",
       "       [ 0.29033837],\n",
       "       [ 0.19338417],\n",
       "       [-0.02523906],\n",
       "       [ 0.01148113],\n",
       "       [-0.02031513],\n",
       "       [ 0.17553598],\n",
       "       [ 0.2405189 ],\n",
       "       [ 0.22114666],\n",
       "       [ 0.00185297],\n",
       "       [-0.06693882],\n",
       "       [ 0.00439757],\n",
       "       [-0.17768577],\n",
       "       [ 0.06895557],\n",
       "       [-0.15162891],\n",
       "       [ 0.01937556],\n",
       "       [-0.2529779 ],\n",
       "       [-0.07919236],\n",
       "       [-0.10421396],\n",
       "       [-0.04845787],\n",
       "       [-0.15785958],\n",
       "       [-0.07880092],\n",
       "       [-0.01299218],\n",
       "       [-0.2412301 ],\n",
       "       [ 0.05551397],\n",
       "       [-0.22397475],\n",
       "       [-0.28448522],\n",
       "       [-0.19614817],\n",
       "       [-0.12709646],\n",
       "       [ 0.21762833],\n",
       "       [-0.08068933],\n",
       "       [-0.19605552]], dtype=float32)"
      ]
     },
     "execution_count": 219,
     "metadata": {},
     "output_type": "execute_result"
    }
   ],
   "source": [
    "testPredict"
   ]
  },
  {
   "cell_type": "code",
   "execution_count": 220,
   "metadata": {},
   "outputs": [],
   "source": [
    "train_copy = np.repeat(trainPredict, scaled_list_train.shape[1], axis=-1)\n",
    "test_copy = np.repeat(testPredict, scaled_list_test.shape[1], axis=-1)"
   ]
  },
  {
   "cell_type": "code",
   "execution_count": 221,
   "metadata": {},
   "outputs": [],
   "source": [
    "train_copy = scaler.inverse_transform(train_copy)[:,0]\n",
    "test_copy = scaler.inverse_transform(test_copy)[:,0]"
   ]
  },
  {
   "cell_type": "code",
   "execution_count": 241,
   "metadata": {},
   "outputs": [
    {
     "ename": "ValueError",
     "evalue": "Found input variables with inconsistent numbers of samples: [416, 61344]",
     "output_type": "error",
     "traceback": [
      "\u001b[1;31m---------------------------------------------------------------------------\u001b[0m",
      "\u001b[1;31mValueError\u001b[0m                                Traceback (most recent call last)",
      "Cell \u001b[1;32mIn[241], line 1\u001b[0m\n\u001b[1;32m----> 1\u001b[0m np\u001b[39m.\u001b[39msqrt(mean_squared_error(testPredict\u001b[39m.\u001b[39;49mreshape(\u001b[39m-\u001b[39;49m\u001b[39m1\u001b[39;49m), test\u001b[39m.\u001b[39;49mto_numpy()\u001b[39m.\u001b[39;49mflatten()))\n",
      "File \u001b[1;32mc:\\Users\\mjnst\\anaconda3\\envs\\thesis\\lib\\site-packages\\sklearn\\metrics\\_regression.py:442\u001b[0m, in \u001b[0;36mmean_squared_error\u001b[1;34m(y_true, y_pred, sample_weight, multioutput, squared)\u001b[0m\n\u001b[0;32m    382\u001b[0m \u001b[39mdef\u001b[39;00m \u001b[39mmean_squared_error\u001b[39m(\n\u001b[0;32m    383\u001b[0m     y_true, y_pred, \u001b[39m*\u001b[39m, sample_weight\u001b[39m=\u001b[39m\u001b[39mNone\u001b[39;00m, multioutput\u001b[39m=\u001b[39m\u001b[39m\"\u001b[39m\u001b[39muniform_average\u001b[39m\u001b[39m\"\u001b[39m, squared\u001b[39m=\u001b[39m\u001b[39mTrue\u001b[39;00m\n\u001b[0;32m    384\u001b[0m ):\n\u001b[0;32m    385\u001b[0m     \u001b[39m\"\"\"Mean squared error regression loss.\u001b[39;00m\n\u001b[0;32m    386\u001b[0m \n\u001b[0;32m    387\u001b[0m \u001b[39m    Read more in the :ref:`User Guide <mean_squared_error>`.\u001b[39;00m\n\u001b[1;32m   (...)\u001b[0m\n\u001b[0;32m    440\u001b[0m \u001b[39m    0.825...\u001b[39;00m\n\u001b[0;32m    441\u001b[0m \u001b[39m    \"\"\"\u001b[39;00m\n\u001b[1;32m--> 442\u001b[0m     y_type, y_true, y_pred, multioutput \u001b[39m=\u001b[39m _check_reg_targets(\n\u001b[0;32m    443\u001b[0m         y_true, y_pred, multioutput\n\u001b[0;32m    444\u001b[0m     )\n\u001b[0;32m    445\u001b[0m     check_consistent_length(y_true, y_pred, sample_weight)\n\u001b[0;32m    446\u001b[0m     output_errors \u001b[39m=\u001b[39m np\u001b[39m.\u001b[39maverage((y_true \u001b[39m-\u001b[39m y_pred) \u001b[39m*\u001b[39m\u001b[39m*\u001b[39m \u001b[39m2\u001b[39m, axis\u001b[39m=\u001b[39m\u001b[39m0\u001b[39m, weights\u001b[39m=\u001b[39msample_weight)\n",
      "File \u001b[1;32mc:\\Users\\mjnst\\anaconda3\\envs\\thesis\\lib\\site-packages\\sklearn\\metrics\\_regression.py:100\u001b[0m, in \u001b[0;36m_check_reg_targets\u001b[1;34m(y_true, y_pred, multioutput, dtype)\u001b[0m\n\u001b[0;32m     66\u001b[0m \u001b[39mdef\u001b[39;00m \u001b[39m_check_reg_targets\u001b[39m(y_true, y_pred, multioutput, dtype\u001b[39m=\u001b[39m\u001b[39m\"\u001b[39m\u001b[39mnumeric\u001b[39m\u001b[39m\"\u001b[39m):\n\u001b[0;32m     67\u001b[0m     \u001b[39m\"\"\"Check that y_true and y_pred belong to the same regression task.\u001b[39;00m\n\u001b[0;32m     68\u001b[0m \n\u001b[0;32m     69\u001b[0m \u001b[39m    Parameters\u001b[39;00m\n\u001b[1;32m   (...)\u001b[0m\n\u001b[0;32m     98\u001b[0m \u001b[39m        correct keyword.\u001b[39;00m\n\u001b[0;32m     99\u001b[0m \u001b[39m    \"\"\"\u001b[39;00m\n\u001b[1;32m--> 100\u001b[0m     check_consistent_length(y_true, y_pred)\n\u001b[0;32m    101\u001b[0m     y_true \u001b[39m=\u001b[39m check_array(y_true, ensure_2d\u001b[39m=\u001b[39m\u001b[39mFalse\u001b[39;00m, dtype\u001b[39m=\u001b[39mdtype)\n\u001b[0;32m    102\u001b[0m     y_pred \u001b[39m=\u001b[39m check_array(y_pred, ensure_2d\u001b[39m=\u001b[39m\u001b[39mFalse\u001b[39;00m, dtype\u001b[39m=\u001b[39mdtype)\n",
      "File \u001b[1;32mc:\\Users\\mjnst\\anaconda3\\envs\\thesis\\lib\\site-packages\\sklearn\\utils\\validation.py:397\u001b[0m, in \u001b[0;36mcheck_consistent_length\u001b[1;34m(*arrays)\u001b[0m\n\u001b[0;32m    395\u001b[0m uniques \u001b[39m=\u001b[39m np\u001b[39m.\u001b[39munique(lengths)\n\u001b[0;32m    396\u001b[0m \u001b[39mif\u001b[39;00m \u001b[39mlen\u001b[39m(uniques) \u001b[39m>\u001b[39m \u001b[39m1\u001b[39m:\n\u001b[1;32m--> 397\u001b[0m     \u001b[39mraise\u001b[39;00m \u001b[39mValueError\u001b[39;00m(\n\u001b[0;32m    398\u001b[0m         \u001b[39m\"\u001b[39m\u001b[39mFound input variables with inconsistent numbers of samples: \u001b[39m\u001b[39m%r\u001b[39;00m\u001b[39m\"\u001b[39m\n\u001b[0;32m    399\u001b[0m         \u001b[39m%\u001b[39m [\u001b[39mint\u001b[39m(l) \u001b[39mfor\u001b[39;00m l \u001b[39min\u001b[39;00m lengths]\n\u001b[0;32m    400\u001b[0m     )\n",
      "\u001b[1;31mValueError\u001b[0m: Found input variables with inconsistent numbers of samples: [416, 61344]"
     ]
    }
   ],
   "source": [
    "np.sqrt(mean_squared_error(testPredict.reshape(-1), test.to_numpy().flatten()))"
   ]
  },
  {
   "cell_type": "code",
   "execution_count": null,
   "metadata": {},
   "outputs": [],
   "source": []
  }
 ],
 "metadata": {
  "kernelspec": {
   "display_name": "thesis",
   "language": "python",
   "name": "python3"
  },
  "language_info": {
   "codemirror_mode": {
    "name": "ipython",
    "version": 3
   },
   "file_extension": ".py",
   "mimetype": "text/x-python",
   "name": "python",
   "nbconvert_exporter": "python",
   "pygments_lexer": "ipython3",
   "version": "3.10.10"
  },
  "orig_nbformat": 4
 },
 "nbformat": 4,
 "nbformat_minor": 2
}
